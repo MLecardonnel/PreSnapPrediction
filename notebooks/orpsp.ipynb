{
 "cells": [
  {
   "cell_type": "code",
   "execution_count": null,
   "metadata": {},
   "outputs": [],
   "source": [
    "%load_ext autoreload\n",
    "%autoreload 2\n",
    "\n",
    "import pickle\n",
    "import polars as pl\n",
    "import matplotlib.pyplot as plt\n",
    "from pre_snap_prediction.modeling import orpsp_classification"
   ]
  },
  {
   "cell_type": "code",
   "execution_count": 2,
   "metadata": {},
   "outputs": [],
   "source": [
    "orpsp_features = pl.read_csv(\"../data/orpsp_features.csv\", null_values=[\"NA\", \"\"])\n",
    "orpsp_target = pl.read_csv(\"../data/orpsp_target.csv\", null_values=[\"NA\", \"\"])"
   ]
  },
  {
   "cell_type": "code",
   "execution_count": 3,
   "metadata": {},
   "outputs": [],
   "source": [
    "encoder = pickle.load(open(\"../models/encoder.pkl\", \"rb\"))\n",
    "classification_model = pickle.load(open(\"../models/classification_model.pkl\", \"rb\"))"
   ]
  },
  {
   "cell_type": "code",
   "execution_count": 4,
   "metadata": {},
   "outputs": [],
   "source": [
    "orpsp_features = orpsp_classification.select_orpsp_features(orpsp_features)"
   ]
  },
  {
   "cell_type": "code",
   "execution_count": 5,
   "metadata": {},
   "outputs": [],
   "source": [
    "orpsp_features_encoded = orpsp_classification.transform_encoder(orpsp_features, encoder)"
   ]
  },
  {
   "cell_type": "code",
   "execution_count": 6,
   "metadata": {},
   "outputs": [],
   "source": [
    "x_train, x_test, y_train, y_test = orpsp_classification.orpsp_train_test_split(orpsp_features_encoded, orpsp_target)"
   ]
  },
  {
   "cell_type": "code",
   "execution_count": 7,
   "metadata": {},
   "outputs": [],
   "source": [
    "y_pred = orpsp_classification.predict_orpsp_class(x_test, classification_model)\n",
    "y_train_pred = orpsp_classification.predict_orpsp_class(x_train, classification_model)"
   ]
  },
  {
   "cell_type": "code",
   "execution_count": 8,
   "metadata": {},
   "outputs": [],
   "source": [
    "y_pred_proba = orpsp_classification.predict_orpsp(x_test, classification_model)\n",
    "y_train_pred_proba = orpsp_classification.predict_orpsp(x_train, classification_model)"
   ]
  },
  {
   "cell_type": "code",
   "execution_count": null,
   "metadata": {},
   "outputs": [],
   "source": [
    "from sklearn.metrics import balanced_accuracy_score, confusion_matrix, ConfusionMatrixDisplay, classification_report, roc_curve, auc\n",
    "\n",
    "print(\"Train: \" + str(balanced_accuracy_score(y_train, y_train_pred)))\n",
    "print(\"Test: \" + str(balanced_accuracy_score(y_test, y_pred)))"
   ]
  },
  {
   "cell_type": "code",
   "execution_count": null,
   "metadata": {},
   "outputs": [],
   "source": [
    "fig, ax = plt.subplots(figsize=(4, 4))\n",
    "ConfusionMatrixDisplay(confusion_matrix(y_train, y_train_pred), display_labels=[\"No Reception\", \"Received Pass\"]).plot(ax=ax)"
   ]
  },
  {
   "cell_type": "code",
   "execution_count": null,
   "metadata": {},
   "outputs": [],
   "source": [
    "fig, ax = plt.subplots(figsize=(4, 4))\n",
    "ConfusionMatrixDisplay(confusion_matrix(y_test, y_pred), display_labels=[\"No Reception\", \"Received Pass\"]).plot(ax=ax)"
   ]
  },
  {
   "cell_type": "code",
   "execution_count": null,
   "metadata": {},
   "outputs": [],
   "source": [
    "print(classification_report(y_train, y_train_pred))"
   ]
  },
  {
   "cell_type": "code",
   "execution_count": null,
   "metadata": {},
   "outputs": [],
   "source": [
    "print(classification_report(y_test, y_pred))"
   ]
  },
  {
   "cell_type": "code",
   "execution_count": 14,
   "metadata": {},
   "outputs": [],
   "source": [
    "fpr_test, tpr_test, thresholds_test = roc_curve(y_test, y_pred_proba[\"orpsp\"].to_numpy())\n",
    "fpr_train, tpr_train, thresholds_train = roc_curve(y_train, y_train_pred_proba[\"orpsp\"].to_numpy())"
   ]
  },
  {
   "cell_type": "code",
   "execution_count": null,
   "metadata": {},
   "outputs": [],
   "source": [
    "plt.plot(fpr_train, tpr_train, label=f\"Train AUC = {auc(fpr_train, tpr_train):.2f}\")\n",
    "plt.plot(fpr_test, tpr_test, label=f\"Test AUC = {auc(fpr_test, tpr_test):.2f}\")\n",
    "plt.legend()"
   ]
  },
  {
   "cell_type": "code",
   "execution_count": null,
   "metadata": {},
   "outputs": [],
   "source": [
    "from shapash import SmartExplainer"
   ]
  },
  {
   "cell_type": "code",
   "execution_count": 17,
   "metadata": {},
   "outputs": [],
   "source": [
    "xpl = SmartExplainer(\n",
    "    model=classification_model,\n",
    ")"
   ]
  },
  {
   "cell_type": "code",
   "execution_count": null,
   "metadata": {},
   "outputs": [],
   "source": [
    "xpl.compile(\n",
    "    x_test.to_pandas().drop(columns=[\"gameId\", \"playId\", \"nflId\"]),\n",
    "    y_target=y_test.to_pandas(),\n",
    ")"
   ]
  },
  {
   "cell_type": "code",
   "execution_count": null,
   "metadata": {},
   "outputs": [],
   "source": [
    "xpl.plot.features_importance(mode='global-local', max_features=30, zoom=True)"
   ]
  },
  {
   "cell_type": "code",
   "execution_count": null,
   "metadata": {},
   "outputs": [],
   "source": [
    "app = xpl.run_app(port=\"8051\")"
   ]
  },
  {
   "cell_type": "code",
   "execution_count": null,
   "metadata": {},
   "outputs": [],
   "source": [
    "app.kill()"
   ]
  },
  {
   "cell_type": "code",
   "execution_count": null,
   "metadata": {},
   "outputs": [],
   "source": []
  }
 ],
 "metadata": {
  "kernelspec": {
   "display_name": "bowl_2025",
   "language": "python",
   "name": "python3"
  },
  "language_info": {
   "codemirror_mode": {
    "name": "ipython",
    "version": 3
   },
   "file_extension": ".py",
   "mimetype": "text/x-python",
   "name": "python",
   "nbconvert_exporter": "python",
   "pygments_lexer": "ipython3",
   "version": "3.10.15"
  }
 },
 "nbformat": 4,
 "nbformat_minor": 2
}
