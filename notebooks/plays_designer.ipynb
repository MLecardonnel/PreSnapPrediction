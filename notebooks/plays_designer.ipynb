{
 "cells": [
  {
   "cell_type": "code",
   "execution_count": 1,
   "metadata": {},
   "outputs": [],
   "source": [
    "%load_ext autoreload\n",
    "%autoreload 2\n",
    "\n",
    "import polars as pl\n",
    "from pre_snap_prediction.data import process_data, process_orpsp"
   ]
  },
  {
   "cell_type": "code",
   "execution_count": 2,
   "metadata": {},
   "outputs": [],
   "source": [
    "player_play = pl.read_csv(\"../data/player_play.csv\", null_values=\"NA\")"
   ]
  },
  {
   "cell_type": "code",
   "execution_count": 3,
   "metadata": {},
   "outputs": [],
   "source": [
    "players = pl.read_csv(\"../data/players.csv\", null_values=\"NA\")"
   ]
  },
  {
   "cell_type": "code",
   "execution_count": 4,
   "metadata": {},
   "outputs": [],
   "source": [
    "plays = pl.read_csv(\"../data/plays.csv\", null_values=\"NA\")"
   ]
  },
  {
   "cell_type": "code",
   "execution_count": 5,
   "metadata": {},
   "outputs": [
    {
     "data": {
      "text/html": [
       "<div><style>\n",
       ".dataframe > thead > tr,\n",
       ".dataframe > tbody > tr {\n",
       "  text-align: right;\n",
       "  white-space: pre-wrap;\n",
       "}\n",
       "</style>\n",
       "<small>shape: (8, 2)</small><table border=\"1\" class=\"dataframe\"><thead><tr><th>offenseFormation</th><th>count</th></tr><tr><td>str</td><td>u32</td></tr></thead><tbody><tr><td>&quot;SINGLEBACK&quot;</td><td>3915</td></tr><tr><td>&quot;SHOTGUN&quot;</td><td>8791</td></tr><tr><td>&quot;I_FORM&quot;</td><td>1035</td></tr><tr><td>&quot;PISTOL&quot;</td><td>641</td></tr><tr><td>&quot;JUMBO&quot;</td><td>125</td></tr><tr><td>&quot;EMPTY&quot;</td><td>1342</td></tr><tr><td>&quot;WILDCAT&quot;</td><td>87</td></tr><tr><td>null</td><td>188</td></tr></tbody></table></div>"
      ],
      "text/plain": [
       "shape: (8, 2)\n",
       "┌──────────────────┬───────┐\n",
       "│ offenseFormation ┆ count │\n",
       "│ ---              ┆ ---   │\n",
       "│ str              ┆ u32   │\n",
       "╞══════════════════╪═══════╡\n",
       "│ SINGLEBACK       ┆ 3915  │\n",
       "│ SHOTGUN          ┆ 8791  │\n",
       "│ I_FORM           ┆ 1035  │\n",
       "│ PISTOL           ┆ 641   │\n",
       "│ JUMBO            ┆ 125   │\n",
       "│ EMPTY            ┆ 1342  │\n",
       "│ WILDCAT          ┆ 87    │\n",
       "│ null             ┆ 188   │\n",
       "└──────────────────┴───────┘"
      ]
     },
     "execution_count": 5,
     "metadata": {},
     "output_type": "execute_result"
    }
   ],
   "source": [
    "plays[\"offenseFormation\"].value_counts()"
   ]
  },
  {
   "cell_type": "code",
   "execution_count": 6,
   "metadata": {},
   "outputs": [
    {
     "data": {
      "text/html": [
       "<div><style>\n",
       ".dataframe > thead > tr,\n",
       ".dataframe > tbody > tr {\n",
       "  text-align: right;\n",
       "  white-space: pre-wrap;\n",
       "}\n",
       "</style>\n",
       "<small>shape: (7, 2)</small><table border=\"1\" class=\"dataframe\"><thead><tr><th>receiverAlignment</th><th>count</th></tr><tr><td>str</td><td>u32</td></tr></thead><tbody><tr><td>&quot;2x1&quot;</td><td>428</td></tr><tr><td>&quot;3x1&quot;</td><td>4085</td></tr><tr><td>&quot;1x1&quot;</td><td>7</td></tr><tr><td>&quot;1x0&quot;</td><td>1</td></tr><tr><td>&quot;3x2&quot;</td><td>1</td></tr><tr><td>&quot;2x2&quot;</td><td>4268</td></tr><tr><td>&quot;3x0&quot;</td><td>1</td></tr></tbody></table></div>"
      ],
      "text/plain": [
       "shape: (7, 2)\n",
       "┌───────────────────┬───────┐\n",
       "│ receiverAlignment ┆ count │\n",
       "│ ---               ┆ ---   │\n",
       "│ str               ┆ u32   │\n",
       "╞═══════════════════╪═══════╡\n",
       "│ 2x1               ┆ 428   │\n",
       "│ 3x1               ┆ 4085  │\n",
       "│ 1x1               ┆ 7     │\n",
       "│ 1x0               ┆ 1     │\n",
       "│ 3x2               ┆ 1     │\n",
       "│ 2x2               ┆ 4268  │\n",
       "│ 3x0               ┆ 1     │\n",
       "└───────────────────┴───────┘"
      ]
     },
     "execution_count": 6,
     "metadata": {},
     "output_type": "execute_result"
    }
   ],
   "source": [
    "plays.filter(pl.col(\"offenseFormation\")==\"SHOTGUN\")[\"receiverAlignment\"].value_counts()"
   ]
  },
  {
   "cell_type": "code",
   "execution_count": 7,
   "metadata": {},
   "outputs": [
    {
     "data": {
      "text/html": [
       "<div><style>\n",
       ".dataframe > thead > tr,\n",
       ".dataframe > tbody > tr {\n",
       "  text-align: right;\n",
       "  white-space: pre-wrap;\n",
       "}\n",
       "</style>\n",
       "<small>shape: (4_268, 50)</small><table border=\"1\" class=\"dataframe\"><thead><tr><th>gameId</th><th>playId</th><th>playDescription</th><th>quarter</th><th>down</th><th>yardsToGo</th><th>possessionTeam</th><th>defensiveTeam</th><th>yardlineSide</th><th>yardlineNumber</th><th>gameClock</th><th>preSnapHomeScore</th><th>preSnapVisitorScore</th><th>playNullifiedByPenalty</th><th>absoluteYardlineNumber</th><th>preSnapHomeTeamWinProbability</th><th>preSnapVisitorTeamWinProbability</th><th>expectedPoints</th><th>offenseFormation</th><th>receiverAlignment</th><th>playClockAtSnap</th><th>passResult</th><th>passLength</th><th>targetX</th><th>targetY</th><th>playAction</th><th>dropbackType</th><th>dropbackDistance</th><th>passLocationType</th><th>timeToThrow</th><th>timeInTackleBox</th><th>timeToSack</th><th>passTippedAtLine</th><th>unblockedPressure</th><th>qbSpike</th><th>qbKneel</th><th>qbSneak</th><th>rushLocationType</th><th>penaltyYards</th><th>prePenaltyYardsGained</th><th>yardsGained</th><th>homeTeamWinProbabilityAdded</th><th>visitorTeamWinProbilityAdded</th><th>expectedPointsAdded</th><th>isDropback</th><th>pff_runConceptPrimary</th><th>pff_runConceptSecondary</th><th>pff_runPassOption</th><th>pff_passCoverage</th><th>pff_manZone</th></tr><tr><td>i64</td><td>i64</td><td>str</td><td>i64</td><td>i64</td><td>i64</td><td>str</td><td>str</td><td>str</td><td>i64</td><td>str</td><td>i64</td><td>i64</td><td>str</td><td>i64</td><td>f64</td><td>f64</td><td>f64</td><td>str</td><td>str</td><td>i64</td><td>str</td><td>i64</td><td>f64</td><td>f64</td><td>bool</td><td>str</td><td>f64</td><td>str</td><td>f64</td><td>f64</td><td>f64</td><td>bool</td><td>bool</td><td>bool</td><td>i64</td><td>bool</td><td>str</td><td>i64</td><td>i64</td><td>i64</td><td>f64</td><td>f64</td><td>f64</td><td>bool</td><td>str</td><td>str</td><td>i64</td><td>str</td><td>str</td></tr></thead><tbody><tr><td>2022103004</td><td>3146</td><td>&quot;(2:00) (Shotgun) D.Mills pass …</td><td>4</td><td>3</td><td>12</td><td>&quot;HOU&quot;</td><td>&quot;TEN&quot;</td><td>&quot;HOU&quot;</td><td>20</td><td>&quot;02:00&quot;</td><td>3</td><td>17</td><td>&quot;N&quot;</td><td>30</td><td>0.006291</td><td>0.993709</td><td>-0.291485</td><td>&quot;SHOTGUN&quot;</td><td>&quot;2x2&quot;</td><td>12</td><td>&quot;C&quot;</td><td>-4</td><td>26.02</td><td>17.56</td><td>false</td><td>&quot;TRADITIONAL&quot;</td><td>3.2</td><td>&quot;INSIDE_BOX&quot;</td><td>2.236</td><td>2.236</td><td>null</td><td>false</td><td>false</td><td>false</td><td>0</td><td>null</td><td>null</td><td>null</td><td>6</td><td>6</td><td>0.000205</td><td>-0.000205</td><td>-0.21848</td><td>true</td><td>null</td><td>null</td><td>0</td><td>&quot;Quarters&quot;</td><td>&quot;Zone&quot;</td></tr><tr><td>2022110610</td><td>348</td><td>&quot;(9:28) (Shotgun) P.Mahomes pas…</td><td>1</td><td>2</td><td>10</td><td>&quot;KC&quot;</td><td>&quot;TEN&quot;</td><td>&quot;TEN&quot;</td><td>23</td><td>&quot;09:28&quot;</td><td>0</td><td>0</td><td>&quot;N&quot;</td><td>33</td><td>0.884223</td><td>0.115777</td><td>4.249382</td><td>&quot;SHOTGUN&quot;</td><td>&quot;2x2&quot;</td><td>11</td><td>&quot;C&quot;</td><td>-6</td><td>38.95</td><td>14.19</td><td>false</td><td>&quot;TRADITIONAL&quot;</td><td>3.02</td><td>&quot;INSIDE_BOX&quot;</td><td>2.202</td><td>2.202</td><td>null</td><td>false</td><td>false</td><td>false</td><td>0</td><td>null</td><td>null</td><td>null</td><td>4</td><td>4</td><td>-0.001308</td><td>0.001308</td><td>-0.427749</td><td>true</td><td>null</td><td>null</td><td>0</td><td>&quot;Quarters&quot;</td><td>&quot;Zone&quot;</td></tr><tr><td>2022110605</td><td>3861</td><td>&quot;(:29) (Shotgun) J.Wilkins up t…</td><td>4</td><td>1</td><td>10</td><td>&quot;IND&quot;</td><td>&quot;NE&quot;</td><td>&quot;IND&quot;</td><td>40</td><td>&quot;00:29&quot;</td><td>26</td><td>3</td><td>&quot;N&quot;</td><td>50</td><td>0.997811</td><td>0.002189</td><td>0.991169</td><td>&quot;SHOTGUN&quot;</td><td>&quot;2x2&quot;</td><td>18</td><td>&quot;&quot;</td><td>null</td><td>null</td><td>null</td><td>false</td><td>null</td><td>null</td><td>null</td><td>null</td><td>null</td><td>null</td><td>null</td><td>null</td><td>null</td><td>0</td><td>false</td><td>&quot;OUTSIDE_LEFT&quot;</td><td>null</td><td>5</td><td>5</td><td>0.002189</td><td>-0.002189</td><td>-0.991169</td><td>false</td><td>&quot;INSIDE ZONE&quot;</td><td>null</td><td>0</td><td>&quot;Cover-2&quot;</td><td>&quot;Zone&quot;</td></tr><tr><td>2022100912</td><td>445</td><td>&quot;(8:51) (Shotgun) C.Rush pass i…</td><td>1</td><td>3</td><td>5</td><td>&quot;DAL&quot;</td><td>&quot;LA&quot;</td><td>&quot;LA&quot;</td><td>15</td><td>&quot;08:51&quot;</td><td>0</td><td>6</td><td>&quot;N&quot;</td><td>95</td><td>0.411201</td><td>0.588799</td><td>3.963614</td><td>&quot;SHOTGUN&quot;</td><td>&quot;2x2&quot;</td><td>16</td><td>&quot;I&quot;</td><td>5</td><td>100.04</td><td>3.51</td><td>false</td><td>&quot;TRADITIONAL&quot;</td><td>2.27</td><td>&quot;INSIDE_BOX&quot;</td><td>2.13</td><td>2.13</td><td>null</td><td>false</td><td>false</td><td>false</td><td>0</td><td>null</td><td>null</td><td>null</td><td>0</td><td>0</td><td>0.034006</td><td>-0.034006</td><td>-1.288449</td><td>true</td><td>null</td><td>null</td><td>0</td><td>&quot;Cover-3 Seam&quot;</td><td>&quot;Zone&quot;</td></tr><tr><td>2022110603</td><td>2325</td><td>&quot;(7:36) (No Huddle, Shotgun) A.…</td><td>3</td><td>2</td><td>9</td><td>&quot;GB&quot;</td><td>&quot;DET&quot;</td><td>&quot;GB&quot;</td><td>47</td><td>&quot;07:36&quot;</td><td>8</td><td>0</td><td>&quot;N&quot;</td><td>63</td><td>0.657711</td><td>0.342289</td><td>2.303506</td><td>&quot;SHOTGUN&quot;</td><td>&quot;2x2&quot;</td><td>7</td><td>&quot;C&quot;</td><td>12</td><td>51.28</td><td>2.65</td><td>false</td><td>&quot;TRADITIONAL&quot;</td><td>4.76</td><td>&quot;INSIDE_BOX&quot;</td><td>2.97</td><td>2.97</td><td>null</td><td>false</td><td>false</td><td>false</td><td>0</td><td>null</td><td>null</td><td>null</td><td>12</td><td>12</td><td>-0.044392</td><td>0.044392</td><td>1.286698</td><td>true</td><td>null</td><td>null</td><td>0</td><td>&quot;Quarters&quot;</td><td>&quot;Zone&quot;</td></tr><tr><td>&hellip;</td><td>&hellip;</td><td>&hellip;</td><td>&hellip;</td><td>&hellip;</td><td>&hellip;</td><td>&hellip;</td><td>&hellip;</td><td>&hellip;</td><td>&hellip;</td><td>&hellip;</td><td>&hellip;</td><td>&hellip;</td><td>&hellip;</td><td>&hellip;</td><td>&hellip;</td><td>&hellip;</td><td>&hellip;</td><td>&hellip;</td><td>&hellip;</td><td>&hellip;</td><td>&hellip;</td><td>&hellip;</td><td>&hellip;</td><td>&hellip;</td><td>&hellip;</td><td>&hellip;</td><td>&hellip;</td><td>&hellip;</td><td>&hellip;</td><td>&hellip;</td><td>&hellip;</td><td>&hellip;</td><td>&hellip;</td><td>&hellip;</td><td>&hellip;</td><td>&hellip;</td><td>&hellip;</td><td>&hellip;</td><td>&hellip;</td><td>&hellip;</td><td>&hellip;</td><td>&hellip;</td><td>&hellip;</td><td>&hellip;</td><td>&hellip;</td><td>&hellip;</td><td>&hellip;</td><td>&hellip;</td><td>&hellip;</td></tr><tr><td>2022102303</td><td>1153</td><td>&quot;(8:50) (Shotgun) J.Goff pass s…</td><td>2</td><td>3</td><td>14</td><td>&quot;DET&quot;</td><td>&quot;DAL&quot;</td><td>&quot;DAL&quot;</td><td>35</td><td>&quot;08:50&quot;</td><td>3</td><td>3</td><td>&quot;N&quot;</td><td>45</td><td>0.716269</td><td>0.283731</td><td>2.217553</td><td>&quot;SHOTGUN&quot;</td><td>&quot;2x2&quot;</td><td>7</td><td>&quot;C&quot;</td><td>-4</td><td>48.84</td><td>32.08</td><td>false</td><td>&quot;TRADITIONAL&quot;</td><td>4.61</td><td>&quot;INSIDE_BOX&quot;</td><td>1.935</td><td>1.935</td><td>null</td><td>false</td><td>true</td><td>false</td><td>0</td><td>null</td><td>null</td><td>null</td><td>1</td><td>1</td><td>0.004773</td><td>-0.004773</td><td>-0.827386</td><td>true</td><td>null</td><td>null</td><td>0</td><td>&quot;Cover-3&quot;</td><td>&quot;Zone&quot;</td></tr><tr><td>2022110600</td><td>1138</td><td>&quot;(8:12) (Shotgun) J.Herbert pas…</td><td>2</td><td>2</td><td>15</td><td>&quot;LAC&quot;</td><td>&quot;ATL&quot;</td><td>&quot;ATL&quot;</td><td>41</td><td>&quot;08:12&quot;</td><td>10</td><td>0</td><td>&quot;N&quot;</td><td>51</td><td>0.727737</td><td>0.272263</td><td>2.273283</td><td>&quot;SHOTGUN&quot;</td><td>&quot;2x2&quot;</td><td>14</td><td>&quot;C&quot;</td><td>4</td><td>46.24</td><td>35.7</td><td>false</td><td>&quot;TRADITIONAL&quot;</td><td>4.05</td><td>&quot;INSIDE_BOX&quot;</td><td>2.97</td><td>2.97</td><td>null</td><td>false</td><td>false</td><td>false</td><td>0</td><td>null</td><td>null</td><td>null</td><td>6</td><td>6</td><td>-0.009573</td><td>0.009573</td><td>0.388327</td><td>true</td><td>null</td><td>null</td><td>0</td><td>&quot;Cover-2&quot;</td><td>&quot;Zone&quot;</td></tr><tr><td>2022110604</td><td>1051</td><td>&quot;(12:49) (Shotgun) T.Lawrence p…</td><td>2</td><td>3</td><td>4</td><td>&quot;JAX&quot;</td><td>&quot;LV&quot;</td><td>&quot;JAX&quot;</td><td>31</td><td>&quot;12:49&quot;</td><td>0</td><td>10</td><td>&quot;N&quot;</td><td>79</td><td>0.207444</td><td>0.792556</td><td>0.702276</td><td>&quot;SHOTGUN&quot;</td><td>&quot;2x2&quot;</td><td>9</td><td>&quot;I&quot;</td><td>6</td><td>72.69</td><td>39.92</td><td>false</td><td>&quot;TRADITIONAL&quot;</td><td>1.67</td><td>&quot;INSIDE_BOX&quot;</td><td>1.86</td><td>1.86</td><td>null</td><td>false</td><td>false</td><td>false</td><td>0</td><td>null</td><td>null</td><td>null</td><td>0</td><td>0</td><td>-0.024741</td><td>0.024741</td><td>-1.391687</td><td>true</td><td>null</td><td>null</td><td>0</td><td>&quot;Cover-2&quot;</td><td>&quot;Zone&quot;</td></tr><tr><td>2022103005</td><td>3492</td><td>&quot;(12:32) (Shotgun) K.Cousins pa…</td><td>4</td><td>1</td><td>10</td><td>&quot;MIN&quot;</td><td>&quot;ARI&quot;</td><td>&quot;MIN&quot;</td><td>25</td><td>&quot;12:32&quot;</td><td>28</td><td>26</td><td>&quot;N&quot;</td><td>35</td><td>0.724565</td><td>0.275435</td><td>1.600202</td><td>&quot;SHOTGUN&quot;</td><td>&quot;2x2&quot;</td><td>12</td><td>&quot;I&quot;</td><td>20</td><td>null</td><td>null</td><td>false</td><td>&quot;TRADITIONAL&quot;</td><td>2.24</td><td>&quot;INSIDE_BOX&quot;</td><td>3.136</td><td>3.136</td><td>null</td><td>false</td><td>false</td><td>false</td><td>0</td><td>null</td><td>null</td><td>null</td><td>0</td><td>0</td><td>-0.02658</td><td>0.02658</td><td>-0.503208</td><td>true</td><td>null</td><td>null</td><td>0</td><td>&quot;Cover-3&quot;</td><td>&quot;Zone&quot;</td></tr><tr><td>2022092502</td><td>2337</td><td>&quot;(9:59) (Shotgun) P.Mahomes scr…</td><td>3</td><td>1</td><td>10</td><td>&quot;KC&quot;</td><td>&quot;IND&quot;</td><td>&quot;IND&quot;</td><td>13</td><td>&quot;09:59&quot;</td><td>10</td><td>14</td><td>&quot;N&quot;</td><td>97</td><td>0.165774</td><td>0.834226</td><td>5.127508</td><td>&quot;SHOTGUN&quot;</td><td>&quot;2x2&quot;</td><td>6</td><td>&quot;R&quot;</td><td>null</td><td>null</td><td>null</td><td>false</td><td>&quot;SCRAMBLE&quot;</td><td>3.28</td><td>null</td><td>null</td><td>null</td><td>null</td><td>null</td><td>false</td><td>null</td><td>0</td><td>false</td><td>&quot;INSIDE_RIGHT&quot;</td><td>null</td><td>10</td><td>10</td><td>-0.01379</td><td>0.01379</td><td>1.073898</td><td>true</td><td>null</td><td>null</td><td>0</td><td>&quot;Quarters&quot;</td><td>&quot;Zone&quot;</td></tr></tbody></table></div>"
      ],
      "text/plain": [
       "shape: (4_268, 50)\n",
       "┌────────────┬────────┬────────────┬─────────┬───┬────────────┬────────────┬───────────┬───────────┐\n",
       "│ gameId     ┆ playId ┆ playDescri ┆ quarter ┆ … ┆ pff_runCon ┆ pff_runPas ┆ pff_passC ┆ pff_manZo │\n",
       "│ ---        ┆ ---    ┆ ption      ┆ ---     ┆   ┆ ceptSecond ┆ sOption    ┆ overage   ┆ ne        │\n",
       "│ i64        ┆ i64    ┆ ---        ┆ i64     ┆   ┆ ary        ┆ ---        ┆ ---       ┆ ---       │\n",
       "│            ┆        ┆ str        ┆         ┆   ┆ ---        ┆ i64        ┆ str       ┆ str       │\n",
       "│            ┆        ┆            ┆         ┆   ┆ str        ┆            ┆           ┆           │\n",
       "╞════════════╪════════╪════════════╪═════════╪═══╪════════════╪════════════╪═══════════╪═══════════╡\n",
       "│ 2022103004 ┆ 3146   ┆ (2:00)     ┆ 4       ┆ … ┆ null       ┆ 0          ┆ Quarters  ┆ Zone      │\n",
       "│            ┆        ┆ (Shotgun)  ┆         ┆   ┆            ┆            ┆           ┆           │\n",
       "│            ┆        ┆ D.Mills    ┆         ┆   ┆            ┆            ┆           ┆           │\n",
       "│            ┆        ┆ pass …     ┆         ┆   ┆            ┆            ┆           ┆           │\n",
       "│ 2022110610 ┆ 348    ┆ (9:28)     ┆ 1       ┆ … ┆ null       ┆ 0          ┆ Quarters  ┆ Zone      │\n",
       "│            ┆        ┆ (Shotgun)  ┆         ┆   ┆            ┆            ┆           ┆           │\n",
       "│            ┆        ┆ P.Mahomes  ┆         ┆   ┆            ┆            ┆           ┆           │\n",
       "│            ┆        ┆ pas…       ┆         ┆   ┆            ┆            ┆           ┆           │\n",
       "│ 2022110605 ┆ 3861   ┆ (:29)      ┆ 4       ┆ … ┆ null       ┆ 0          ┆ Cover-2   ┆ Zone      │\n",
       "│            ┆        ┆ (Shotgun)  ┆         ┆   ┆            ┆            ┆           ┆           │\n",
       "│            ┆        ┆ J.Wilkins  ┆         ┆   ┆            ┆            ┆           ┆           │\n",
       "│            ┆        ┆ up t…      ┆         ┆   ┆            ┆            ┆           ┆           │\n",
       "│ 2022100912 ┆ 445    ┆ (8:51)     ┆ 1       ┆ … ┆ null       ┆ 0          ┆ Cover-3   ┆ Zone      │\n",
       "│            ┆        ┆ (Shotgun)  ┆         ┆   ┆            ┆            ┆ Seam      ┆           │\n",
       "│            ┆        ┆ C.Rush     ┆         ┆   ┆            ┆            ┆           ┆           │\n",
       "│            ┆        ┆ pass i…    ┆         ┆   ┆            ┆            ┆           ┆           │\n",
       "│ 2022110603 ┆ 2325   ┆ (7:36) (No ┆ 3       ┆ … ┆ null       ┆ 0          ┆ Quarters  ┆ Zone      │\n",
       "│            ┆        ┆ Huddle,    ┆         ┆   ┆            ┆            ┆           ┆           │\n",
       "│            ┆        ┆ Shotgun)   ┆         ┆   ┆            ┆            ┆           ┆           │\n",
       "│            ┆        ┆ A.…        ┆         ┆   ┆            ┆            ┆           ┆           │\n",
       "│ …          ┆ …      ┆ …          ┆ …       ┆ … ┆ …          ┆ …          ┆ …         ┆ …         │\n",
       "│ 2022102303 ┆ 1153   ┆ (8:50)     ┆ 2       ┆ … ┆ null       ┆ 0          ┆ Cover-3   ┆ Zone      │\n",
       "│            ┆        ┆ (Shotgun)  ┆         ┆   ┆            ┆            ┆           ┆           │\n",
       "│            ┆        ┆ J.Goff     ┆         ┆   ┆            ┆            ┆           ┆           │\n",
       "│            ┆        ┆ pass s…    ┆         ┆   ┆            ┆            ┆           ┆           │\n",
       "│ 2022110600 ┆ 1138   ┆ (8:12)     ┆ 2       ┆ … ┆ null       ┆ 0          ┆ Cover-2   ┆ Zone      │\n",
       "│            ┆        ┆ (Shotgun)  ┆         ┆   ┆            ┆            ┆           ┆           │\n",
       "│            ┆        ┆ J.Herbert  ┆         ┆   ┆            ┆            ┆           ┆           │\n",
       "│            ┆        ┆ pas…       ┆         ┆   ┆            ┆            ┆           ┆           │\n",
       "│ 2022110604 ┆ 1051   ┆ (12:49)    ┆ 2       ┆ … ┆ null       ┆ 0          ┆ Cover-2   ┆ Zone      │\n",
       "│            ┆        ┆ (Shotgun)  ┆         ┆   ┆            ┆            ┆           ┆           │\n",
       "│            ┆        ┆ T.Lawrence ┆         ┆   ┆            ┆            ┆           ┆           │\n",
       "│            ┆        ┆ p…         ┆         ┆   ┆            ┆            ┆           ┆           │\n",
       "│ 2022103005 ┆ 3492   ┆ (12:32)    ┆ 4       ┆ … ┆ null       ┆ 0          ┆ Cover-3   ┆ Zone      │\n",
       "│            ┆        ┆ (Shotgun)  ┆         ┆   ┆            ┆            ┆           ┆           │\n",
       "│            ┆        ┆ K.Cousins  ┆         ┆   ┆            ┆            ┆           ┆           │\n",
       "│            ┆        ┆ pa…        ┆         ┆   ┆            ┆            ┆           ┆           │\n",
       "│ 2022092502 ┆ 2337   ┆ (9:59)     ┆ 3       ┆ … ┆ null       ┆ 0          ┆ Quarters  ┆ Zone      │\n",
       "│            ┆        ┆ (Shotgun)  ┆         ┆   ┆            ┆            ┆           ┆           │\n",
       "│            ┆        ┆ P.Mahomes  ┆         ┆   ┆            ┆            ┆           ┆           │\n",
       "│            ┆        ┆ scr…       ┆         ┆   ┆            ┆            ┆           ┆           │\n",
       "└────────────┴────────┴────────────┴─────────┴───┴────────────┴────────────┴───────────┴───────────┘"
      ]
     },
     "execution_count": 7,
     "metadata": {},
     "output_type": "execute_result"
    }
   ],
   "source": [
    "plays.filter(pl.col(\"offenseFormation\")==\"SHOTGUN\", pl.col(\"receiverAlignment\")==\"2x2\")"
   ]
  },
  {
   "cell_type": "code",
   "execution_count": 8,
   "metadata": {},
   "outputs": [],
   "source": [
    "complete_plays = pl.read_csv(\"../data/complete_plays.csv\", null_values=[\"NA\", \"\"])"
   ]
  },
  {
   "cell_type": "code",
   "execution_count": 9,
   "metadata": {},
   "outputs": [],
   "source": [
    "tracking = process_data.read_tracking_csv()"
   ]
  },
  {
   "cell_type": "code",
   "execution_count": 10,
   "metadata": {},
   "outputs": [],
   "source": [
    "tracking_features = process_orpsp.get_tracking_features(complete_plays, tracking)"
   ]
  },
  {
   "cell_type": "code",
   "execution_count": 11,
   "metadata": {},
   "outputs": [],
   "source": [
    "start_features = process_orpsp.get_start_features(tracking_features)"
   ]
  },
  {
   "cell_type": "code",
   "execution_count": 12,
   "metadata": {},
   "outputs": [
    {
     "data": {
      "text/html": [
       "<div><style>\n",
       ".dataframe > thead > tr,\n",
       ".dataframe > tbody > tr {\n",
       "  text-align: right;\n",
       "  white-space: pre-wrap;\n",
       "}\n",
       "</style>\n",
       "<small>shape: (214_084, 13)</small><table border=\"1\" class=\"dataframe\"><thead><tr><th>gameId</th><th>playId</th><th>nflId</th><th>frameType</th><th>frameId</th><th>playDirection</th><th>x</th><th>y</th><th>o</th><th>event</th><th>route_left</th><th>x_ball</th><th>y_ball</th></tr><tr><td>i64</td><td>i64</td><td>i64</td><td>str</td><td>i64</td><td>str</td><td>f64</td><td>f64</td><td>f64</td><td>str</td><td>bool</td><td>f64</td><td>f64</td></tr></thead><tbody><tr><td>2022103003</td><td>1955</td><td>53959</td><td>&quot;BEFORE_SNAP&quot;</td><td>95</td><td>&quot;left&quot;</td><td>33.96</td><td>23.58</td><td>73.28</td><td>null</td><td>true</td><td>35.25</td><td>27.939999</td></tr><tr><td>2022091804</td><td>280</td><td>46132</td><td>&quot;BEFORE_SNAP&quot;</td><td>118</td><td>&quot;left&quot;</td><td>98.79</td><td>13.28</td><td>309.24</td><td>null</td><td>false</td><td>92.68</td><td>23.46</td></tr><tr><td>2022092511</td><td>3115</td><td>53611</td><td>&quot;BEFORE_SNAP&quot;</td><td>87</td><td>&quot;right&quot;</td><td>50.37</td><td>24.2</td><td>null</td><td>null</td><td>true</td><td>49.419998</td><td>30.1</td></tr><tr><td>2022091100</td><td>2533</td><td>48520</td><td>&quot;BEFORE_SNAP&quot;</td><td>100</td><td>&quot;left&quot;</td><td>54.91</td><td>23.0</td><td>279.06</td><td>null</td><td>true</td><td>54.07</td><td>23.53</td></tr><tr><td>2022091805</td><td>2066</td><td>52446</td><td>&quot;BEFORE_SNAP&quot;</td><td>77</td><td>&quot;left&quot;</td><td>35.54</td><td>34.02</td><td>253.8</td><td>null</td><td>false</td><td>34.970001</td><td>29.79</td></tr><tr><td>&hellip;</td><td>&hellip;</td><td>&hellip;</td><td>&hellip;</td><td>&hellip;</td><td>&hellip;</td><td>&hellip;</td><td>&hellip;</td><td>&hellip;</td><td>&hellip;</td><td>&hellip;</td><td>&hellip;</td><td>&hellip;</td></tr><tr><td>2022102301</td><td>1937</td><td>53499</td><td>&quot;BEFORE_SNAP&quot;</td><td>121</td><td>&quot;left&quot;</td><td>28.78</td><td>25.18</td><td>123.2</td><td>null</td><td>false</td><td>30.25</td><td>23.179999</td></tr><tr><td>2022110603</td><td>1288</td><td>47827</td><td>&quot;BEFORE_SNAP&quot;</td><td>99</td><td>&quot;left&quot;</td><td>27.96</td><td>31.23</td><td>79.72</td><td>null</td><td>false</td><td>28.889999</td><td>29.359999</td></tr><tr><td>2022102304</td><td>1610</td><td>44830</td><td>&quot;BEFORE_SNAP&quot;</td><td>103</td><td>&quot;left&quot;</td><td>52.54</td><td>15.19</td><td>290.05</td><td>null</td><td>false</td><td>44.230003</td><td>23.330001</td></tr><tr><td>2022091806</td><td>1189</td><td>53557</td><td>&quot;BEFORE_SNAP&quot;</td><td>119</td><td>&quot;right&quot;</td><td>84.21</td><td>26.64</td><td>null</td><td>null</td><td>true</td><td>85.419998</td><td>23.82</td></tr><tr><td>2022102305</td><td>1097</td><td>54538</td><td>&quot;BEFORE_SNAP&quot;</td><td>106</td><td>&quot;left&quot;</td><td>80.65</td><td>22.86</td><td>93.72</td><td>null</td><td>true</td><td>81.369999</td><td>29.519999</td></tr></tbody></table></div>"
      ],
      "text/plain": [
       "shape: (214_084, 13)\n",
       "┌────────────┬────────┬───────┬─────────────┬───┬───────┬────────────┬───────────┬───────────┐\n",
       "│ gameId     ┆ playId ┆ nflId ┆ frameType   ┆ … ┆ event ┆ route_left ┆ x_ball    ┆ y_ball    │\n",
       "│ ---        ┆ ---    ┆ ---   ┆ ---         ┆   ┆ ---   ┆ ---        ┆ ---       ┆ ---       │\n",
       "│ i64        ┆ i64    ┆ i64   ┆ str         ┆   ┆ str   ┆ bool       ┆ f64       ┆ f64       │\n",
       "╞════════════╪════════╪═══════╪═════════════╪═══╪═══════╪════════════╪═══════════╪═══════════╡\n",
       "│ 2022103003 ┆ 1955   ┆ 53959 ┆ BEFORE_SNAP ┆ … ┆ null  ┆ true       ┆ 35.25     ┆ 27.939999 │\n",
       "│ 2022091804 ┆ 280    ┆ 46132 ┆ BEFORE_SNAP ┆ … ┆ null  ┆ false      ┆ 92.68     ┆ 23.46     │\n",
       "│ 2022092511 ┆ 3115   ┆ 53611 ┆ BEFORE_SNAP ┆ … ┆ null  ┆ true       ┆ 49.419998 ┆ 30.1      │\n",
       "│ 2022091100 ┆ 2533   ┆ 48520 ┆ BEFORE_SNAP ┆ … ┆ null  ┆ true       ┆ 54.07     ┆ 23.53     │\n",
       "│ 2022091805 ┆ 2066   ┆ 52446 ┆ BEFORE_SNAP ┆ … ┆ null  ┆ false      ┆ 34.970001 ┆ 29.79     │\n",
       "│ …          ┆ …      ┆ …     ┆ …           ┆ … ┆ …     ┆ …          ┆ …         ┆ …         │\n",
       "│ 2022102301 ┆ 1937   ┆ 53499 ┆ BEFORE_SNAP ┆ … ┆ null  ┆ false      ┆ 30.25     ┆ 23.179999 │\n",
       "│ 2022110603 ┆ 1288   ┆ 47827 ┆ BEFORE_SNAP ┆ … ┆ null  ┆ false      ┆ 28.889999 ┆ 29.359999 │\n",
       "│ 2022102304 ┆ 1610   ┆ 44830 ┆ BEFORE_SNAP ┆ … ┆ null  ┆ false      ┆ 44.230003 ┆ 23.330001 │\n",
       "│ 2022091806 ┆ 1189   ┆ 53557 ┆ BEFORE_SNAP ┆ … ┆ null  ┆ true       ┆ 85.419998 ┆ 23.82     │\n",
       "│ 2022102305 ┆ 1097   ┆ 54538 ┆ BEFORE_SNAP ┆ … ┆ null  ┆ true       ┆ 81.369999 ┆ 29.519999 │\n",
       "└────────────┴────────┴───────┴─────────────┴───┴───────┴────────────┴───────────┴───────────┘"
      ]
     },
     "execution_count": 12,
     "metadata": {},
     "output_type": "execute_result"
    }
   ],
   "source": [
    "start_features"
   ]
  },
  {
   "cell_type": "code",
   "execution_count": 13,
   "metadata": {},
   "outputs": [
    {
     "data": {
      "text/html": [
       "<div><style>\n",
       ".dataframe > thead > tr,\n",
       ".dataframe > tbody > tr {\n",
       "  text-align: right;\n",
       "  white-space: pre-wrap;\n",
       "}\n",
       "</style>\n",
       "<small>shape: (4_268, 50)</small><table border=\"1\" class=\"dataframe\"><thead><tr><th>gameId</th><th>playId</th><th>playDescription</th><th>quarter</th><th>down</th><th>yardsToGo</th><th>possessionTeam</th><th>defensiveTeam</th><th>yardlineSide</th><th>yardlineNumber</th><th>gameClock</th><th>preSnapHomeScore</th><th>preSnapVisitorScore</th><th>playNullifiedByPenalty</th><th>absoluteYardlineNumber</th><th>preSnapHomeTeamWinProbability</th><th>preSnapVisitorTeamWinProbability</th><th>expectedPoints</th><th>offenseFormation</th><th>receiverAlignment</th><th>playClockAtSnap</th><th>passResult</th><th>passLength</th><th>targetX</th><th>targetY</th><th>playAction</th><th>dropbackType</th><th>dropbackDistance</th><th>passLocationType</th><th>timeToThrow</th><th>timeInTackleBox</th><th>timeToSack</th><th>passTippedAtLine</th><th>unblockedPressure</th><th>qbSpike</th><th>qbKneel</th><th>qbSneak</th><th>rushLocationType</th><th>penaltyYards</th><th>prePenaltyYardsGained</th><th>yardsGained</th><th>homeTeamWinProbabilityAdded</th><th>visitorTeamWinProbilityAdded</th><th>expectedPointsAdded</th><th>isDropback</th><th>pff_runConceptPrimary</th><th>pff_runConceptSecondary</th><th>pff_runPassOption</th><th>pff_passCoverage</th><th>pff_manZone</th></tr><tr><td>i64</td><td>i64</td><td>str</td><td>i64</td><td>i64</td><td>i64</td><td>str</td><td>str</td><td>str</td><td>i64</td><td>str</td><td>i64</td><td>i64</td><td>str</td><td>i64</td><td>f64</td><td>f64</td><td>f64</td><td>str</td><td>str</td><td>i64</td><td>str</td><td>i64</td><td>f64</td><td>f64</td><td>bool</td><td>str</td><td>f64</td><td>str</td><td>f64</td><td>f64</td><td>f64</td><td>bool</td><td>bool</td><td>bool</td><td>i64</td><td>bool</td><td>str</td><td>i64</td><td>i64</td><td>i64</td><td>f64</td><td>f64</td><td>f64</td><td>bool</td><td>str</td><td>str</td><td>i64</td><td>str</td><td>str</td></tr></thead><tbody><tr><td>2022090800</td><td>1657</td><td>&quot;(1:48) (Shotgun) M.Stafford pa…</td><td>2</td><td>2</td><td>10</td><td>&quot;LA&quot;</td><td>&quot;BUF&quot;</td><td>&quot;BUF&quot;</td><td>45</td><td>&quot;01:48&quot;</td><td>7</td><td>10</td><td>&quot;N&quot;</td><td>55</td><td>0.40665</td><td>0.59335</td><td>2.465821</td><td>&quot;SHOTGUN&quot;</td><td>&quot;2x2&quot;</td><td>6</td><td>&quot;I&quot;</td><td>23</td><td>40.37</td><td>32.14</td><td>false</td><td>&quot;TRADITIONAL&quot;</td><td>3.14</td><td>&quot;INSIDE_BOX&quot;</td><td>2.436</td><td>2.436</td><td>null</td><td>false</td><td>false</td><td>false</td><td>0</td><td>null</td><td>null</td><td>null</td><td>0</td><td>0</td><td>-0.014103</td><td>0.014103</td><td>-0.479244</td><td>true</td><td>null</td><td>null</td><td>0</td><td>&quot;Cover-3&quot;</td><td>&quot;Zone&quot;</td></tr><tr><td>2022090800</td><td>2464</td><td>&quot;(5:11) (Shotgun) J.Allen scram…</td><td>3</td><td>1</td><td>15</td><td>&quot;BUF&quot;</td><td>&quot;LA&quot;</td><td>&quot;BUF&quot;</td><td>6</td><td>&quot;05:11&quot;</td><td>10</td><td>17</td><td>&quot;N&quot;</td><td>104</td><td>0.219183</td><td>0.780817</td><td>-0.670623</td><td>&quot;SHOTGUN&quot;</td><td>&quot;2x2&quot;</td><td>9</td><td>&quot;R&quot;</td><td>null</td><td>null</td><td>null</td><td>false</td><td>&quot;SCRAMBLE&quot;</td><td>1.92</td><td>null</td><td>null</td><td>null</td><td>null</td><td>null</td><td>false</td><td>null</td><td>0</td><td>false</td><td>&quot;INSIDE_LEFT&quot;</td><td>null</td><td>8</td><td>8</td><td>-0.019701</td><td>0.019701</td><td>0.578808</td><td>true</td><td>null</td><td>null</td><td>0</td><td>&quot;Cover-3&quot;</td><td>&quot;Zone&quot;</td></tr><tr><td>2022090800</td><td>2688</td><td>&quot;(15:00) (Shotgun) J.Allen pass…</td><td>4</td><td>3</td><td>7</td><td>&quot;BUF&quot;</td><td>&quot;LA&quot;</td><td>&quot;BUF&quot;</td><td>47</td><td>&quot;15:00&quot;</td><td>10</td><td>17</td><td>&quot;N&quot;</td><td>57</td><td>0.150378</td><td>0.849622</td><td>1.207212</td><td>&quot;SHOTGUN&quot;</td><td>&quot;2x2&quot;</td><td>19</td><td>&quot;C&quot;</td><td>40</td><td>95.74</td><td>31.79</td><td>false</td><td>&quot;TRADITIONAL&quot;</td><td>3.12</td><td>&quot;INSIDE_BOX&quot;</td><td>2.836</td><td>2.836</td><td>null</td><td>false</td><td>false</td><td>false</td><td>0</td><td>null</td><td>null</td><td>null</td><td>47</td><td>47</td><td>-0.067931</td><td>0.067931</td><td>4.467861</td><td>true</td><td>null</td><td>null</td><td>0</td><td>&quot;Cover-3&quot;</td><td>&quot;Zone&quot;</td></tr><tr><td>2022090800</td><td>467</td><td>&quot;(6:21) (No Huddle, Shotgun) M.…</td><td>1</td><td>2</td><td>6</td><td>&quot;LA&quot;</td><td>&quot;BUF&quot;</td><td>&quot;BUF&quot;</td><td>43</td><td>&quot;06:21&quot;</td><td>0</td><td>7</td><td>&quot;N&quot;</td><td>67</td><td>0.324274</td><td>0.675726</td><td>2.919861</td><td>&quot;SHOTGUN&quot;</td><td>&quot;2x2&quot;</td><td>20</td><td>&quot;S&quot;</td><td>null</td><td>null</td><td>null</td><td>false</td><td>&quot;TRADITIONAL&quot;</td><td>3.69</td><td>&quot;INSIDE_BOX&quot;</td><td>null</td><td>null</td><td>5.205</td><td>false</td><td>false</td><td>false</td><td>0</td><td>null</td><td>null</td><td>null</td><td>-8</td><td>-8</td><td>-0.052261</td><td>0.052261</td><td>-2.094141</td><td>true</td><td>null</td><td>null</td><td>0</td><td>&quot;Cover-3&quot;</td><td>&quot;Zone&quot;</td></tr><tr><td>2022090800</td><td>2572</td><td>&quot;(1:45) (Shotgun) J.Allen pass …</td><td>3</td><td>2</td><td>9</td><td>&quot;BUF&quot;</td><td>&quot;LA&quot;</td><td>&quot;BUF&quot;</td><td>34</td><td>&quot;01:45&quot;</td><td>10</td><td>17</td><td>&quot;N&quot;</td><td>76</td><td>0.163963</td><td>0.836037</td><td>1.050046</td><td>&quot;SHOTGUN&quot;</td><td>&quot;2x2&quot;</td><td>8</td><td>&quot;C&quot;</td><td>2</td><td>73.96</td><td>20.11</td><td>false</td><td>&quot;TRADITIONAL&quot;</td><td>2.44</td><td>&quot;INSIDE_BOX&quot;</td><td>2.269</td><td>2.269</td><td>null</td><td>false</td><td>false</td><td>false</td><td>0</td><td>null</td><td>null</td><td>null</td><td>4</td><td>4</td><td>0.006451</td><td>-0.006451</td><td>-0.29679</td><td>true</td><td>null</td><td>null</td><td>0</td><td>&quot;Cover-3 Seam&quot;</td><td>&quot;Zone&quot;</td></tr><tr><td>&hellip;</td><td>&hellip;</td><td>&hellip;</td><td>&hellip;</td><td>&hellip;</td><td>&hellip;</td><td>&hellip;</td><td>&hellip;</td><td>&hellip;</td><td>&hellip;</td><td>&hellip;</td><td>&hellip;</td><td>&hellip;</td><td>&hellip;</td><td>&hellip;</td><td>&hellip;</td><td>&hellip;</td><td>&hellip;</td><td>&hellip;</td><td>&hellip;</td><td>&hellip;</td><td>&hellip;</td><td>&hellip;</td><td>&hellip;</td><td>&hellip;</td><td>&hellip;</td><td>&hellip;</td><td>&hellip;</td><td>&hellip;</td><td>&hellip;</td><td>&hellip;</td><td>&hellip;</td><td>&hellip;</td><td>&hellip;</td><td>&hellip;</td><td>&hellip;</td><td>&hellip;</td><td>&hellip;</td><td>&hellip;</td><td>&hellip;</td><td>&hellip;</td><td>&hellip;</td><td>&hellip;</td><td>&hellip;</td><td>&hellip;</td><td>&hellip;</td><td>&hellip;</td><td>&hellip;</td><td>&hellip;</td><td>&hellip;</td></tr><tr><td>2022110700</td><td>1692</td><td>&quot;(1:56) (Shotgun) A.Kamara righ…</td><td>2</td><td>2</td><td>10</td><td>&quot;NO&quot;</td><td>&quot;BAL&quot;</td><td>&quot;NO&quot;</td><td>25</td><td>&quot;01:56&quot;</td><td>0</td><td>14</td><td>&quot;N&quot;</td><td>35</td><td>0.162649</td><td>0.837351</td><td>0.932146</td><td>&quot;SHOTGUN&quot;</td><td>&quot;2x2&quot;</td><td>13</td><td>&quot;&quot;</td><td>null</td><td>null</td><td>null</td><td>false</td><td>null</td><td>null</td><td>null</td><td>null</td><td>null</td><td>null</td><td>null</td><td>null</td><td>null</td><td>0</td><td>false</td><td>&quot;INSIDE_RIGHT&quot;</td><td>null</td><td>9</td><td>9</td><td>0.009386</td><td>-0.009386</td><td>0.537077</td><td>false</td><td>&quot;DRAW&quot;</td><td>null</td><td>0</td><td>&quot;Quarters&quot;</td><td>&quot;Zone&quot;</td></tr><tr><td>2022110700</td><td>2465</td><td>&quot;(5:43) 14-A.Dalton returns at …</td><td>3</td><td>2</td><td>4</td><td>&quot;NO&quot;</td><td>&quot;BAL&quot;</td><td>&quot;BAL&quot;</td><td>39</td><td>&quot;05:43&quot;</td><td>3</td><td>17</td><td>&quot;N&quot;</td><td>49</td><td>0.158891</td><td>0.841109</td><td>3.396368</td><td>&quot;SHOTGUN&quot;</td><td>&quot;2x2&quot;</td><td>3</td><td>&quot;S&quot;</td><td>null</td><td>null</td><td>null</td><td>false</td><td>&quot;TRADITIONAL&quot;</td><td>2.58</td><td>&quot;INSIDE_BOX&quot;</td><td>null</td><td>null</td><td>4.458</td><td>false</td><td>false</td><td>false</td><td>0</td><td>null</td><td>null</td><td>null</td><td>-2</td><td>-2</td><td>-0.017459</td><td>0.017459</td><td>-0.90608</td><td>true</td><td>null</td><td>null</td><td>0</td><td>&quot;Cover-3&quot;</td><td>&quot;Zone&quot;</td></tr><tr><td>2022110700</td><td>3581</td><td>&quot;(3:29) (Shotgun) L.Jackson lef…</td><td>4</td><td>2</td><td>4</td><td>&quot;BAL&quot;</td><td>&quot;NO&quot;</td><td>&quot;BAL&quot;</td><td>28</td><td>&quot;03:29&quot;</td><td>13</td><td>27</td><td>&quot;N&quot;</td><td>82</td><td>0.00515</td><td>0.99485</td><td>0.939215</td><td>&quot;SHOTGUN&quot;</td><td>&quot;2x2&quot;</td><td>5</td><td>&quot;&quot;</td><td>null</td><td>null</td><td>null</td><td>true</td><td>&quot;DESIGNED_RUN&quot;</td><td>5.02</td><td>null</td><td>null</td><td>null</td><td>null</td><td>null</td><td>null</td><td>null</td><td>0</td><td>false</td><td>&quot;INSIDE_LEFT&quot;</td><td>null</td><td>7</td><td>7</td><td>-0.001013</td><td>0.001013</td><td>0.783922</td><td>false</td><td>&quot;POWER&quot;</td><td>&quot;INVERTED;READ OPTION&quot;</td><td>0</td><td>&quot;Quarters&quot;</td><td>&quot;Zone&quot;</td></tr><tr><td>2022110700</td><td>1734</td><td>&quot;(1:21) (Shotgun) A.Dalton pass…</td><td>2</td><td>1</td><td>10</td><td>&quot;NO&quot;</td><td>&quot;BAL&quot;</td><td>&quot;NO&quot;</td><td>36</td><td>&quot;01:21&quot;</td><td>0</td><td>14</td><td>&quot;N&quot;</td><td>46</td><td>0.170201</td><td>0.829799</td><td>1.588328</td><td>&quot;SHOTGUN&quot;</td><td>&quot;2x2&quot;</td><td>18</td><td>&quot;C&quot;</td><td>13</td><td>59.01</td><td>2.82</td><td>false</td><td>&quot;SCRAMBLE&quot;</td><td>4.16</td><td>&quot;OUTSIDE_RIGHT&quot;</td><td>5.139</td><td>4.2</td><td>null</td><td>false</td><td>false</td><td>false</td><td>0</td><td>null</td><td>null</td><td>null</td><td>13</td><td>13</td><td>0.015989</td><td>-0.015989</td><td>0.630897</td><td>true</td><td>null</td><td>null</td><td>0</td><td>&quot;Cover-1&quot;</td><td>&quot;Man&quot;</td></tr><tr><td>2022110700</td><td>2496</td><td>&quot;(5:11) (Shotgun) A.Dalton pass…</td><td>3</td><td>3</td><td>6</td><td>&quot;NO&quot;</td><td>&quot;BAL&quot;</td><td>&quot;BAL&quot;</td><td>41</td><td>&quot;05:11&quot;</td><td>3</td><td>17</td><td>&quot;N&quot;</td><td>51</td><td>0.141433</td><td>0.858567</td><td>2.490288</td><td>&quot;SHOTGUN&quot;</td><td>&quot;2x2&quot;</td><td>8</td><td>&quot;C&quot;</td><td>6</td><td>44.17</td><td>10.85</td><td>false</td><td>&quot;TRADITIONAL&quot;</td><td>2.35</td><td>&quot;INSIDE_BOX&quot;</td><td>1.869</td><td>1.869</td><td>null</td><td>false</td><td>false</td><td>false</td><td>0</td><td>null</td><td>null</td><td>null</td><td>9</td><td>9</td><td>0.027238</td><td>-0.027238</td><td>1.827484</td><td>true</td><td>null</td><td>null</td><td>0</td><td>&quot;Cover-6 Right&quot;</td><td>&quot;Zone&quot;</td></tr></tbody></table></div>"
      ],
      "text/plain": [
       "shape: (4_268, 50)\n",
       "┌────────────┬────────┬────────────┬─────────┬───┬────────────┬────────────┬───────────┬───────────┐\n",
       "│ gameId     ┆ playId ┆ playDescri ┆ quarter ┆ … ┆ pff_runCon ┆ pff_runPas ┆ pff_passC ┆ pff_manZo │\n",
       "│ ---        ┆ ---    ┆ ption      ┆ ---     ┆   ┆ ceptSecond ┆ sOption    ┆ overage   ┆ ne        │\n",
       "│ i64        ┆ i64    ┆ ---        ┆ i64     ┆   ┆ ary        ┆ ---        ┆ ---       ┆ ---       │\n",
       "│            ┆        ┆ str        ┆         ┆   ┆ ---        ┆ i64        ┆ str       ┆ str       │\n",
       "│            ┆        ┆            ┆         ┆   ┆ str        ┆            ┆           ┆           │\n",
       "╞════════════╪════════╪════════════╪═════════╪═══╪════════════╪════════════╪═══════════╪═══════════╡\n",
       "│ 2022090800 ┆ 1657   ┆ (1:48)     ┆ 2       ┆ … ┆ null       ┆ 0          ┆ Cover-3   ┆ Zone      │\n",
       "│            ┆        ┆ (Shotgun)  ┆         ┆   ┆            ┆            ┆           ┆           │\n",
       "│            ┆        ┆ M.Stafford ┆         ┆   ┆            ┆            ┆           ┆           │\n",
       "│            ┆        ┆ pa…        ┆         ┆   ┆            ┆            ┆           ┆           │\n",
       "│ 2022090800 ┆ 2464   ┆ (5:11)     ┆ 3       ┆ … ┆ null       ┆ 0          ┆ Cover-3   ┆ Zone      │\n",
       "│            ┆        ┆ (Shotgun)  ┆         ┆   ┆            ┆            ┆           ┆           │\n",
       "│            ┆        ┆ J.Allen    ┆         ┆   ┆            ┆            ┆           ┆           │\n",
       "│            ┆        ┆ scram…     ┆         ┆   ┆            ┆            ┆           ┆           │\n",
       "│ 2022090800 ┆ 2688   ┆ (15:00)    ┆ 4       ┆ … ┆ null       ┆ 0          ┆ Cover-3   ┆ Zone      │\n",
       "│            ┆        ┆ (Shotgun)  ┆         ┆   ┆            ┆            ┆           ┆           │\n",
       "│            ┆        ┆ J.Allen    ┆         ┆   ┆            ┆            ┆           ┆           │\n",
       "│            ┆        ┆ pass…      ┆         ┆   ┆            ┆            ┆           ┆           │\n",
       "│ 2022090800 ┆ 467    ┆ (6:21) (No ┆ 1       ┆ … ┆ null       ┆ 0          ┆ Cover-3   ┆ Zone      │\n",
       "│            ┆        ┆ Huddle,    ┆         ┆   ┆            ┆            ┆           ┆           │\n",
       "│            ┆        ┆ Shotgun)   ┆         ┆   ┆            ┆            ┆           ┆           │\n",
       "│            ┆        ┆ M.…        ┆         ┆   ┆            ┆            ┆           ┆           │\n",
       "│ 2022090800 ┆ 2572   ┆ (1:45)     ┆ 3       ┆ … ┆ null       ┆ 0          ┆ Cover-3   ┆ Zone      │\n",
       "│            ┆        ┆ (Shotgun)  ┆         ┆   ┆            ┆            ┆ Seam      ┆           │\n",
       "│            ┆        ┆ J.Allen    ┆         ┆   ┆            ┆            ┆           ┆           │\n",
       "│            ┆        ┆ pass …     ┆         ┆   ┆            ┆            ┆           ┆           │\n",
       "│ …          ┆ …      ┆ …          ┆ …       ┆ … ┆ …          ┆ …          ┆ …         ┆ …         │\n",
       "│ 2022110700 ┆ 1692   ┆ (1:56)     ┆ 2       ┆ … ┆ null       ┆ 0          ┆ Quarters  ┆ Zone      │\n",
       "│            ┆        ┆ (Shotgun)  ┆         ┆   ┆            ┆            ┆           ┆           │\n",
       "│            ┆        ┆ A.Kamara   ┆         ┆   ┆            ┆            ┆           ┆           │\n",
       "│            ┆        ┆ righ…      ┆         ┆   ┆            ┆            ┆           ┆           │\n",
       "│ 2022110700 ┆ 2465   ┆ (5:43) 14- ┆ 3       ┆ … ┆ null       ┆ 0          ┆ Cover-3   ┆ Zone      │\n",
       "│            ┆        ┆ A.Dalton   ┆         ┆   ┆            ┆            ┆           ┆           │\n",
       "│            ┆        ┆ returns at ┆         ┆   ┆            ┆            ┆           ┆           │\n",
       "│            ┆        ┆ …          ┆         ┆   ┆            ┆            ┆           ┆           │\n",
       "│ 2022110700 ┆ 3581   ┆ (3:29)     ┆ 4       ┆ … ┆ INVERTED;R ┆ 0          ┆ Quarters  ┆ Zone      │\n",
       "│            ┆        ┆ (Shotgun)  ┆         ┆   ┆ EAD OPTION ┆            ┆           ┆           │\n",
       "│            ┆        ┆ L.Jackson  ┆         ┆   ┆            ┆            ┆           ┆           │\n",
       "│            ┆        ┆ lef…       ┆         ┆   ┆            ┆            ┆           ┆           │\n",
       "│ 2022110700 ┆ 1734   ┆ (1:21)     ┆ 2       ┆ … ┆ null       ┆ 0          ┆ Cover-1   ┆ Man       │\n",
       "│            ┆        ┆ (Shotgun)  ┆         ┆   ┆            ┆            ┆           ┆           │\n",
       "│            ┆        ┆ A.Dalton   ┆         ┆   ┆            ┆            ┆           ┆           │\n",
       "│            ┆        ┆ pass…      ┆         ┆   ┆            ┆            ┆           ┆           │\n",
       "│ 2022110700 ┆ 2496   ┆ (5:11)     ┆ 3       ┆ … ┆ null       ┆ 0          ┆ Cover-6   ┆ Zone      │\n",
       "│            ┆        ┆ (Shotgun)  ┆         ┆   ┆            ┆            ┆ Right     ┆           │\n",
       "│            ┆        ┆ A.Dalton   ┆         ┆   ┆            ┆            ┆           ┆           │\n",
       "│            ┆        ┆ pass…      ┆         ┆   ┆            ┆            ┆           ┆           │\n",
       "└────────────┴────────┴────────────┴─────────┴───┴────────────┴────────────┴───────────┴───────────┘"
      ]
     },
     "execution_count": 13,
     "metadata": {},
     "output_type": "execute_result"
    }
   ],
   "source": [
    "plays.filter(pl.col(\"offenseFormation\")==\"SHOTGUN\", pl.col(\"receiverAlignment\")==\"2x2\").sort(\"gameId\")"
   ]
  },
  {
   "cell_type": "code",
   "execution_count": 14,
   "metadata": {},
   "outputs": [],
   "source": [
    "test = start_features.filter(\n",
    "    pl.col(\"gameId\")==2022090800, \n",
    "    pl.col(\"playId\")==467,\n",
    ").join(\n",
    "    player_play.select([\"gameId\", \"playId\", \"nflId\", \"teamAbbr\", \"wasRunningRoute\"]),\n",
    "    on=[\"gameId\", \"playId\", \"nflId\"],\n",
    "    how=\"inner\",\n",
    ").join(\n",
    "    plays.select([\"gameId\", \"playId\", \"possessionTeam\"]),\n",
    "    on=[\"gameId\", \"playId\"],\n",
    "    how=\"inner\",\n",
    ").join(\n",
    "    players.select([\"nflId\", \"position\"]),\n",
    "    on=[\"nflId\"],\n",
    "    how=\"inner\",\n",
    ")"
   ]
  },
  {
   "cell_type": "code",
   "execution_count": 15,
   "metadata": {},
   "outputs": [],
   "source": [
    "test = test.filter(pl.col(\"teamAbbr\")==pl.col(\"possessionTeam\"))"
   ]
  },
  {
   "cell_type": "code",
   "execution_count": 16,
   "metadata": {},
   "outputs": [],
   "source": [
    "shotgun_2x2 = test.with_columns(\n",
    "    (pl.col(\"x\")-pl.col(\"x_ball\")).alias(\"x\"),\n",
    "    (pl.col(\"y\")-pl.col(\"y_ball\")+53.3/2).alias(\"y\"),\n",
    "    pl.col(\"wasRunningRoute\").fill_null(0).alias(\"wasRunningRoute\")\n",
    ").select([\"x\", \"y\", \"wasRunningRoute\", \"position\"]).sort(\"y\", descending=True)"
   ]
  },
  {
   "cell_type": "code",
   "execution_count": 17,
   "metadata": {},
   "outputs": [],
   "source": [
    "default_formations = {\n",
    "    \"SHOTGUN\": {\n",
    "        \"2x2\": shotgun_2x2.to_dict(as_series=False)\n",
    "    }\n",
    "}"
   ]
  },
  {
   "cell_type": "code",
   "execution_count": 18,
   "metadata": {},
   "outputs": [
    {
     "data": {
      "text/plain": [
       "{'SHOTGUN': {'2x2': {'x': [-1.6899999999999977,\n",
       "    -0.4200000000000017,\n",
       "    -0.9300000000000068,\n",
       "    -4.670000000000002,\n",
       "    -0.7800000000000011,\n",
       "    -4.68,\n",
       "    -0.12000000000000455,\n",
       "    -0.7099999999999937,\n",
       "    -0.8499999999999943,\n",
       "    -1.3599999999999994,\n",
       "    -0.5100000000000051],\n",
       "   'y': [37.33,\n",
       "    35.79,\n",
       "    29.67,\n",
       "    28.66,\n",
       "    28.16,\n",
       "    26.799999999999997,\n",
       "    26.59,\n",
       "    25.119999999999997,\n",
       "    23.72,\n",
       "    20.5,\n",
       "    14.369999999999997],\n",
       "   'wasRunningRoute': [1, 1, 0, 1, 0, 0, 0, 0, 0, 1, 1],\n",
       "   'position': ['WR', 'WR', 'T', 'RB', 'G', 'QB', 'C', 'C', 'T', 'TE', 'WR']}}}"
      ]
     },
     "execution_count": 18,
     "metadata": {},
     "output_type": "execute_result"
    }
   ],
   "source": [
    "default_formations"
   ]
  },
  {
   "cell_type": "code",
   "execution_count": 19,
   "metadata": {},
   "outputs": [],
   "source": [
    "import json\n",
    "with open(\"../src/pre_snap_prediction/plays_designer/default_formations.json\", \"w\") as outfile: \n",
    "    json.dump(default_formations, outfile)"
   ]
  },
  {
   "cell_type": "code",
   "execution_count": null,
   "metadata": {},
   "outputs": [],
   "source": []
  }
 ],
 "metadata": {
  "kernelspec": {
   "display_name": "bowl_2025",
   "language": "python",
   "name": "python3"
  },
  "language_info": {
   "codemirror_mode": {
    "name": "ipython",
    "version": 3
   },
   "file_extension": ".py",
   "mimetype": "text/x-python",
   "name": "python",
   "nbconvert_exporter": "python",
   "pygments_lexer": "ipython3",
   "version": "3.10.15"
  }
 },
 "nbformat": 4,
 "nbformat_minor": 2
}
