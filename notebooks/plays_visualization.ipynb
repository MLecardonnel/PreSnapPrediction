{
 "cells": [
  {
   "cell_type": "code",
   "execution_count": null,
   "metadata": {},
   "outputs": [],
   "source": [
    "%load_ext autoreload\n",
    "%autoreload 2\n",
    "\n",
    "import polars as pl\n",
    "from pre_snap_prediction.data import process_data, process_visualization\n",
    "from pre_snap_prediction.visualization import Field"
   ]
  },
  {
   "cell_type": "code",
   "execution_count": 7,
   "metadata": {},
   "outputs": [],
   "source": [
    "tracking = process_data.read_tracking_csv(1)"
   ]
  },
  {
   "cell_type": "code",
   "execution_count": 8,
   "metadata": {},
   "outputs": [],
   "source": [
    "plays = pl.read_csv(\"../data/plays.csv\", null_values=\"NA\")"
   ]
  },
  {
   "cell_type": "code",
   "execution_count": 9,
   "metadata": {},
   "outputs": [],
   "source": [
    "clusters_route = pl.read_csv(\"../data/clusters_route.csv\", null_values=\"NA\")\n",
    "clusters_route_mode = pl.read_csv(\"../data/clusters_route_mode.csv\", null_values=\"NA\")\n",
    "clusters_reception_zone = pl.read_csv(\"../data/clusters_reception_zone.csv\", null_values=\"NA\")"
   ]
  },
  {
   "cell_type": "code",
   "execution_count": 10,
   "metadata": {},
   "outputs": [],
   "source": [
    "orpsp_predictions = pl.read_csv(\"../data/orpsp_predictions.csv\", null_values=\"NA\")"
   ]
  },
  {
   "cell_type": "code",
   "execution_count": 11,
   "metadata": {},
   "outputs": [],
   "source": [
    "visualization_tracking = process_visualization.compute_visualization_tracking(tracking, plays, clusters_route, clusters_reception_zone, orpsp_predictions)"
   ]
  },
  {
   "cell_type": "code",
   "execution_count": null,
   "metadata": {},
   "outputs": [],
   "source": [
    "visualization_tracking.select([\"gameId\", \"playId\", \"nflId\"]).unique()"
   ]
  },
  {
   "cell_type": "code",
   "execution_count": 13,
   "metadata": {},
   "outputs": [],
   "source": [
    "# test_play_tracking = visualization_tracking.filter(\n",
    "#     pl.col(\"gameId\")==2022091101, \n",
    "#     pl.col(\"playId\")==2027,\n",
    "# )\n",
    "\n",
    "# test_play_tracking = visualization_tracking.filter(\n",
    "#     pl.col(\"gameId\")==2022091103, \n",
    "#     pl.col(\"playId\")==388,\n",
    "# )\n",
    "\n",
    "# test_play_tracking = visualization_tracking.filter(\n",
    "#     pl.col(\"gameId\")==2022091106, \n",
    "#     pl.col(\"playId\")==2237,\n",
    "# )\n",
    "\n",
    "# test_play_tracking = visualization_tracking.filter(\n",
    "#     pl.col(\"gameId\")==2022091111, \n",
    "#     pl.col(\"playId\")==1862,\n",
    "# )\n",
    "\n",
    "# test_play_tracking = visualization_tracking.filter(\n",
    "#     pl.col(\"gameId\")==2022090800, \n",
    "#     pl.col(\"playId\")==3166,\n",
    "# )\n",
    "\n",
    "# test_play_tracking = visualization_tracking.filter(\n",
    "#     pl.col(\"gameId\")==2022090800, \n",
    "#     pl.col(\"playId\")==1657,\n",
    "# )\n",
    "\n",
    "test_play_tracking = visualization_tracking.filter(\n",
    "    pl.col(\"gameId\")==2022090800, \n",
    "    pl.col(\"playId\")==467,\n",
    ")\n",
    "\n",
    "\n",
    "# test_play_tracking = visualization_tracking.filter(\n",
    "#     pl.col(\"gameId\")==2022091100, \n",
    "#     pl.col(\"playId\")==1485,\n",
    "# )"
   ]
  },
  {
   "cell_type": "code",
   "execution_count": null,
   "metadata": {},
   "outputs": [],
   "source": [
    "orpsp_predictions.filter(pl.col(\"orpsp\")>0.8).sort(\"gameId\").head(10)"
   ]
  },
  {
   "cell_type": "code",
   "execution_count": null,
   "metadata": {},
   "outputs": [],
   "source": [
    "test_play_tracking[\"club\"].unique()"
   ]
  },
  {
   "cell_type": "code",
   "execution_count": 16,
   "metadata": {},
   "outputs": [],
   "source": [
    "field = Field()\n",
    "field.create_animation(test_play_tracking.drop(\"orpsp\"))"
   ]
  },
  {
   "cell_type": "code",
   "execution_count": 17,
   "metadata": {},
   "outputs": [],
   "source": [
    "field = Field()\n",
    "field.create_animation(test_play_tracking)"
   ]
  },
  {
   "cell_type": "code",
   "execution_count": null,
   "metadata": {},
   "outputs": [],
   "source": [
    "field.fig.show()"
   ]
  },
  {
   "cell_type": "code",
   "execution_count": 14,
   "metadata": {},
   "outputs": [],
   "source": [
    "field.save_as_gif(\"animated_play\")"
   ]
  },
  {
   "cell_type": "code",
   "execution_count": null,
   "metadata": {},
   "outputs": [],
   "source": []
  }
 ],
 "metadata": {
  "kernelspec": {
   "display_name": "env",
   "language": "python",
   "name": "python3"
  },
  "language_info": {
   "codemirror_mode": {
    "name": "ipython",
    "version": 3
   },
   "file_extension": ".py",
   "mimetype": "text/x-python",
   "name": "python",
   "nbconvert_exporter": "python",
   "pygments_lexer": "ipython3",
   "version": "3.10.16"
  }
 },
 "nbformat": 4,
 "nbformat_minor": 2
}
