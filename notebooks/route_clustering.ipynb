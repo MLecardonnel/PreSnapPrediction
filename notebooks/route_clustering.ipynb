{
 "cells": [
  {
   "cell_type": "code",
   "execution_count": 1,
   "metadata": {},
   "outputs": [],
   "source": [
    "import polars as pl\n",
    "from pre_snap_prediction.data import process_data\n",
    "from pre_snap_prediction.modeling import route_clustering"
   ]
  },
  {
   "cell_type": "code",
   "execution_count": 2,
   "metadata": {},
   "outputs": [],
   "source": [
    "tracking = process_data.read_tracking_csv(2)"
   ]
  },
  {
   "cell_type": "code",
   "execution_count": 3,
   "metadata": {},
   "outputs": [],
   "source": [
    "player_play = pl.read_csv(\"../data/player_play.csv\", null_values=[\"NA\", \"\"])"
   ]
  },
  {
   "cell_type": "code",
   "execution_count": 4,
   "metadata": {},
   "outputs": [],
   "source": [
    "inverse_tracking = process_data.inverse_left_directed_plays(tracking)"
   ]
  },
  {
   "cell_type": "code",
   "execution_count": 5,
   "metadata": {},
   "outputs": [],
   "source": [
    "route_tracking = process_data.get_route_tracking(inverse_tracking, player_play)\n",
    "route_tracking = process_data.get_route_direction(route_tracking)\n",
    "route_tracking = process_data.inverse_right_route(route_tracking)\n",
    "route_tracking = process_data.process_route_tracking(route_tracking, player_play)"
   ]
  },
  {
   "cell_type": "code",
   "execution_count": 6,
   "metadata": {},
   "outputs": [],
   "source": [
    "route_features = process_data.compute_route_features(route_tracking)"
   ]
  },
  {
   "cell_type": "code",
   "execution_count": 7,
   "metadata": {},
   "outputs": [],
   "source": [
    "clusters_route = pl.read_csv(\"../data/clusters_route.csv\", null_values=[\"NA\", \"\"])"
   ]
  },
  {
   "cell_type": "code",
   "execution_count": 8,
   "metadata": {},
   "outputs": [],
   "source": [
    "clusters_route_mode = pl.read_csv(\"../data/clusters_route_mode.csv\", null_values=[\"NA\", \"\"])"
   ]
  },
  {
   "cell_type": "code",
   "execution_count": 10,
   "metadata": {},
   "outputs": [],
   "source": [
    "clusters_reception_zone = pl.read_csv(\"../data/clusters_reception_zone.csv\", null_values=[\"NA\", \"\"])"
   ]
  },
  {
   "cell_type": "code",
   "execution_count": 11,
   "metadata": {},
   "outputs": [],
   "source": [
    "clusters_route_tracking = route_clustering.join_clusters_to_data(route_tracking, clusters_route)"
   ]
  },
  {
   "cell_type": "code",
   "execution_count": 16,
   "metadata": {},
   "outputs": [],
   "source": [
    "import matplotlib.pyplot as plt"
   ]
  },
  {
   "cell_type": "code",
   "execution_count": null,
   "metadata": {},
   "outputs": [],
   "source": [
    "fig, ax = plt.subplots(1, 1, figsize=(6, 6))\n",
    "ax.scatter(\n",
    "    clusters_route_tracking.filter(pl.col(\"week\")==1)[\"relative_x\"].to_numpy(),\n",
    "    clusters_route_tracking.filter(pl.col(\"week\")==1)[\"relative_y\"].to_numpy(),\n",
    "    c=clusters_route_tracking.filter(pl.col(\"week\")==1)[\"route_frameId\"].to_numpy(),\n",
    "    cmap=\"viridis\",\n",
    "    s=5,\n",
    "    alpha=0.1,\n",
    ")\n",
    "ax.set_aspect('equal', adjustable='box')\n"
   ]
  },
  {
   "cell_type": "code",
   "execution_count": null,
   "metadata": {},
   "outputs": [],
   "source": [
    "clusters_count = clusters_route[\"cluster\"].value_counts().sort(\"count\", descending=True)\n",
    "unique_clusters = clusters_count[\"cluster\"][:10]\n",
    "fig, axs = plt.subplots(len(unique_clusters), 1, figsize=(12,len(unique_clusters)*4))\n",
    "for i, cluster in enumerate(unique_clusters):\n",
    "    cluster_reception_zone = clusters_reception_zone.filter(pl.col(\"cluster\")==cluster)\n",
    "    if cluster_reception_zone.shape[0]>0:\n",
    "        circle = plt.Circle(\n",
    "            (\n",
    "                (cluster_reception_zone[\"relative_x_min\"][0]+cluster_reception_zone[\"relative_x_max\"][0])/2, \n",
    "                (cluster_reception_zone[\"relative_y_min\"][0]+cluster_reception_zone[\"relative_y_max\"][0])/2\n",
    "            ), \n",
    "            (\n",
    "                cluster_reception_zone[\"relative_x_max\"][0] - cluster_reception_zone[\"relative_x_min\"][0] +\n",
    "                cluster_reception_zone[\"relative_y_max\"][0] - cluster_reception_zone[\"relative_y_min\"][0]\n",
    "            )/2, \n",
    "            color='PaleTurquoise', \n",
    "            fill=True, \n",
    "            alpha=0.5, \n",
    "        )\n",
    "        axs[i].add_patch(circle)\n",
    "    \n",
    "    cluster_route_tracking = clusters_route_tracking.filter(pl.col(\"cluster\")==cluster)\n",
    "    axs[i].scatter(\n",
    "        cluster_route_tracking[\"relative_x\"], \n",
    "        cluster_route_tracking[\"relative_y\"], \n",
    "        c=cluster_route_tracking[\"route_frameId\"], \n",
    "        cmap='viridis', \n",
    "        s=5, \n",
    "        alpha=0.2\n",
    "    )\n",
    "\n",
    "    \n",
    "    axs[i].set_aspect('equal', adjustable='box')\n",
    "    axs[i].set_title(\n",
    "        f\"Cluster: {cluster}, Mode: {clusters_route_mode.filter(pl.col('cluster')==cluster)['route_mode'][0]}\"\n",
    "    )"
   ]
  },
  {
   "cell_type": "code",
   "execution_count": null,
   "metadata": {},
   "outputs": [],
   "source": []
  }
 ],
 "metadata": {
  "kernelspec": {
   "display_name": "bowl_2025",
   "language": "python",
   "name": "python3"
  },
  "language_info": {
   "codemirror_mode": {
    "name": "ipython",
    "version": 3
   },
   "file_extension": ".py",
   "mimetype": "text/x-python",
   "name": "python",
   "nbconvert_exporter": "python",
   "pygments_lexer": "ipython3",
   "version": "3.10.15"
  }
 },
 "nbformat": 4,
 "nbformat_minor": 2
}
