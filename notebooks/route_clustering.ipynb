{
 "cells": [
  {
   "cell_type": "code",
   "execution_count": 1,
   "metadata": {},
   "outputs": [],
   "source": [
    "import polars as pl\n",
    "from pre_snap_prediction.data import process_data\n",
    "from pre_snap_prediction.modeling import route_clustering"
   ]
  },
  {
   "cell_type": "code",
   "execution_count": 2,
   "metadata": {},
   "outputs": [],
   "source": [
    "tracking = pl.read_csv(\"../data/tracking_week_1.csv\", null_values=\"NA\")\n",
    "player_play = pl.read_csv(\"../data/player_play.csv\", null_values=\"NA\")"
   ]
  },
  {
   "cell_type": "code",
   "execution_count": 3,
   "metadata": {},
   "outputs": [],
   "source": [
    "inverse_tracking = process_data.inverse_left_directed_plays(tracking)"
   ]
  },
  {
   "cell_type": "code",
   "execution_count": 4,
   "metadata": {},
   "outputs": [],
   "source": [
    "route_tracking = process_data.get_route_tracking(inverse_tracking, player_play)"
   ]
  },
  {
   "cell_type": "code",
   "execution_count": 5,
   "metadata": {},
   "outputs": [],
   "source": [
    "route_tracking_dir = process_data.get_route_direction(route_tracking)"
   ]
  },
  {
   "cell_type": "code",
   "execution_count": null,
   "metadata": {},
   "outputs": [],
   "source": [
    "inverse_route_tracking = process_data.inverse_right_route(route_tracking_dir)"
   ]
  },
  {
   "cell_type": "code",
   "execution_count": 7,
   "metadata": {},
   "outputs": [],
   "source": [
    "processed_route_tracking = process_data.process_route_tracking(inverse_route_tracking)"
   ]
  },
  {
   "cell_type": "code",
   "execution_count": 8,
   "metadata": {},
   "outputs": [],
   "source": [
    "route_features = process_data.compute_route_features(processed_route_tracking)"
   ]
  },
  {
   "cell_type": "code",
   "execution_count": null,
   "metadata": {},
   "outputs": [],
   "source": [
    "route_features"
   ]
  },
  {
   "cell_type": "code",
   "execution_count": 10,
   "metadata": {},
   "outputs": [],
   "source": [
    "outliers_model = route_clustering.train_outliers_model(route_features)"
   ]
  },
  {
   "cell_type": "code",
   "execution_count": null,
   "metadata": {},
   "outputs": [],
   "source": [
    "outliers_route = route_clustering.predict_outliers(route_features, outliers_model)"
   ]
  },
  {
   "cell_type": "code",
   "execution_count": 12,
   "metadata": {},
   "outputs": [],
   "source": [
    "valid_route_features = route_clustering.remove_outliers(outliers_route)"
   ]
  },
  {
   "cell_type": "code",
   "execution_count": 13,
   "metadata": {},
   "outputs": [],
   "source": [
    "clustering_model = route_clustering.train_route_clustering(valid_route_features)"
   ]
  },
  {
   "cell_type": "code",
   "execution_count": null,
   "metadata": {},
   "outputs": [],
   "source": [
    "clusters_route = route_clustering.predict_route_cluters(valid_route_features, clustering_model)"
   ]
  },
  {
   "cell_type": "code",
   "execution_count": 15,
   "metadata": {},
   "outputs": [],
   "source": [
    "clusters_route_tracking = route_clustering.join_clusters_to_data(processed_route_tracking, clusters_route)"
   ]
  },
  {
   "cell_type": "code",
   "execution_count": 17,
   "metadata": {},
   "outputs": [],
   "source": [
    "valid_clusters_route_tracking = clusters_route_tracking.filter(pl.col(\"cluster\").is_not_null())"
   ]
  },
  {
   "cell_type": "code",
   "execution_count": null,
   "metadata": {},
   "outputs": [],
   "source": [
    "import matplotlib.pyplot as plt\n",
    "\n",
    "fig, axs = plt.subplots(2, 1, figsize=(12, 8))\n",
    "axs[0].scatter(\n",
    "    clusters_route_tracking[\"relative_x\"].to_numpy(),\n",
    "    clusters_route_tracking[\"relative_y\"].to_numpy(),\n",
    "    c=clusters_route_tracking[\"route_frameId\"].to_numpy(),\n",
    "    cmap=\"viridis\",\n",
    "    s=5,\n",
    "    alpha=0.1,\n",
    ")\n",
    "axs[0].set_aspect('equal', adjustable='box')\n",
    "axs[1].scatter(\n",
    "    valid_clusters_route_tracking[\"relative_x\"].to_numpy(),\n",
    "    valid_clusters_route_tracking[\"relative_y\"].to_numpy(),\n",
    "    c=valid_clusters_route_tracking[\"route_frameId\"].to_numpy(),\n",
    "    cmap=\"viridis\",\n",
    "    s=5,\n",
    "    alpha=0.1,\n",
    ")\n",
    "axs[1].set_aspect('equal', adjustable='box')\n"
   ]
  },
  {
   "cell_type": "code",
   "execution_count": null,
   "metadata": {},
   "outputs": [],
   "source": [
    "clusters_count = valid_clusters_route_tracking[\"cluster\"].value_counts().sort(\"count\", descending=True)\n",
    "unique_clusters = clusters_count[\"cluster\"][:20]\n",
    "fig, axs = plt.subplots(len(unique_clusters), 1, figsize=(12,len(unique_clusters)*4))\n",
    "for i, cluster in enumerate(unique_clusters):\n",
    "    cluster_route_tracking = valid_clusters_route_tracking.filter(pl.col(\"cluster\")==cluster)\n",
    "    axs[i].scatter(\n",
    "        cluster_route_tracking[\"relative_x\"], \n",
    "        cluster_route_tracking[\"relative_y\"], \n",
    "        c=cluster_route_tracking[\"route_frameId\"], \n",
    "        cmap='viridis', \n",
    "        s=5, \n",
    "        alpha=0.2\n",
    "    )\n",
    "    axs[i].set_aspect('equal', adjustable='box')\n",
    "    axs[i].set_title(f\"Cluster: {cluster}, Count: {clusters_count.filter(pl.col('cluster')==cluster)['count'][0]}, Mode: {cluster_route_tracking['routeRan'].mode()[0]}\")"
   ]
  },
  {
   "cell_type": "code",
   "execution_count": null,
   "metadata": {},
   "outputs": [],
   "source": []
  }
 ],
 "metadata": {
  "kernelspec": {
   "display_name": "bowl_2025",
   "language": "python",
   "name": "python3"
  },
  "language_info": {
   "codemirror_mode": {
    "name": "ipython",
    "version": 3
   },
   "file_extension": ".py",
   "mimetype": "text/x-python",
   "name": "python",
   "nbconvert_exporter": "python",
   "pygments_lexer": "ipython3",
   "version": "3.10.15"
  }
 },
 "nbformat": 4,
 "nbformat_minor": 2
}
