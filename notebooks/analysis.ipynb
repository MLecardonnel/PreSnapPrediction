{
 "cells": [
  {
   "cell_type": "code",
   "execution_count": 2,
   "metadata": {},
   "outputs": [],
   "source": [
    "%load_ext autoreload\n",
    "%autoreload 2\n",
    "\n",
    "import polars as pl"
   ]
  },
  {
   "cell_type": "code",
   "execution_count": 3,
   "metadata": {},
   "outputs": [],
   "source": [
    "import seaborn as sns\n",
    "import matplotlib.pyplot as plt"
   ]
  },
  {
   "cell_type": "code",
   "execution_count": 4,
   "metadata": {},
   "outputs": [],
   "source": [
    "orpsp_predictions = pl.read_csv(\"../data/orpsp_predictions.csv\", null_values=[\"NA\", \"\"])"
   ]
  },
  {
   "cell_type": "code",
   "execution_count": 5,
   "metadata": {},
   "outputs": [],
   "source": [
    "player_play = pl.read_csv(\"../data/player_play.csv\", null_values=[\"NA\", \"\"])"
   ]
  },
  {
   "cell_type": "code",
   "execution_count": 6,
   "metadata": {},
   "outputs": [],
   "source": [
    "players = pl.read_csv(\"../data/players.csv\", null_values=[\"NA\", \"\"])"
   ]
  },
  {
   "cell_type": "code",
   "execution_count": 7,
   "metadata": {},
   "outputs": [],
   "source": [
    "plays_qb = player_play.select([\"gameId\", \"playId\", \"nflId\"]).join(\n",
    "    players.select([\"nflId\", \"displayName\", \"position\"]),\n",
    "    on=[\"nflId\"],\n",
    "    how=\"inner\",\n",
    ").filter(pl.col(\"position\")==\"QB\")\n",
    "plays_qb = plays_qb.with_columns(plays_qb.select(\"gameId\", \"playId\").is_duplicated().alias(\"duplicated\"))\n",
    "plays_qb = plays_qb.filter(~((pl.col(\"duplicated\")) & (pl.col(\"displayName\").is_in([\"Taysom Hill\", \"Malik Willis\"]))))\n",
    "plays_qb = plays_qb.with_columns(plays_qb.select(\"gameId\", \"playId\").is_duplicated().alias(\"duplicated\"))"
   ]
  },
  {
   "cell_type": "code",
   "execution_count": 8,
   "metadata": {},
   "outputs": [],
   "source": [
    "data = orpsp_predictions.join(\n",
    "    player_play.select([\"gameId\", \"playId\", \"nflId\", \"teamAbbr\", \"wasTargettedReceiver\", \"hadPassReception\"]),\n",
    "    on=[\"gameId\", \"playId\", \"nflId\"],\n",
    "    how=\"left\",\n",
    ")"
   ]
  },
  {
   "cell_type": "code",
   "execution_count": 9,
   "metadata": {},
   "outputs": [],
   "source": [
    "data_targetted = data.filter(pl.col(\"wasTargettedReceiver\")==1)"
   ]
  },
  {
   "cell_type": "code",
   "execution_count": 10,
   "metadata": {},
   "outputs": [],
   "source": [
    "games = pl.read_csv(\"../data/games.csv\", null_values=[\"NA\", \"\"])"
   ]
  },
  {
   "cell_type": "code",
   "execution_count": 11,
   "metadata": {},
   "outputs": [],
   "source": [
    "games = games.with_columns(\n",
    "    (pl.col(\"homeFinalScore\")>pl.col(\"visitorFinalScore\")).alias(\"home_win\"),\n",
    "    (pl.col(\"homeFinalScore\")<pl.col(\"visitorFinalScore\")).alias(\"visitor_win\"),\n",
    ")"
   ]
  },
  {
   "cell_type": "code",
   "execution_count": 12,
   "metadata": {},
   "outputs": [],
   "source": [
    "team_win = pl.concat(\n",
    "    [\n",
    "        games.select(pl.col(\"homeTeamAbbr\").alias(\"teamAbbr\"), pl.col(\"home_win\").alias(\"win\")),\n",
    "        games.select(pl.col(\"visitorTeamAbbr\").alias(\"teamAbbr\"), pl.col(\"visitor_win\").alias(\"win\")),\n",
    "    ]\n",
    ").group_by([\"teamAbbr\"]).agg(pl.col(\"win\").mean())"
   ]
  },
  {
   "cell_type": "code",
   "execution_count": null,
   "metadata": {},
   "outputs": [],
   "source": [
    "team_win.sort(\"win\")"
   ]
  },
  {
   "cell_type": "code",
   "execution_count": 14,
   "metadata": {},
   "outputs": [],
   "source": [
    "team_stats = data_targetted.group_by([\"teamAbbr\"]).agg(pl.col(\"orpsp\").mean(), pl.col(\"hadPassReception\").mean())"
   ]
  },
  {
   "cell_type": "code",
   "execution_count": 15,
   "metadata": {},
   "outputs": [],
   "source": [
    "qb_targetted = data_targetted.join(\n",
    "    plays_qb.select([\"gameId\", \"playId\", \"displayName\"]),\n",
    "    on=[\"gameId\", \"playId\"],\n",
    "    how=\"inner\",\n",
    ")\n",
    "\n",
    "qb_stats = qb_targetted.group_by([\"displayName\"]).agg(pl.col(\"orpsp\").mean(), pl.col(\"hadPassReception\").mean(), pl.col(\"wasTargettedReceiver\").count())\n",
    "\n",
    "qb_stats = qb_stats.filter(\n",
    "    pl.col(\"wasTargettedReceiver\")>=50,\n",
    ")"
   ]
  },
  {
   "cell_type": "code",
   "execution_count": 16,
   "metadata": {},
   "outputs": [],
   "source": [
    "player_stats = data_targetted.group_by([\"nflId\"]).agg(pl.col(\"orpsp\").mean(), pl.col(\"hadPassReception\").mean(), pl.col(\"wasTargettedReceiver\").count())\n",
    "\n",
    "player_stats = player_stats.join(\n",
    "    players.select([\"nflId\", \"displayName\", \"position\"]),\n",
    "    on=[\"nflId\"],\n",
    "    how=\"inner\",\n",
    ").filter(\n",
    "    pl.col(\"wasTargettedReceiver\")>=10,\n",
    ")"
   ]
  },
  {
   "cell_type": "code",
   "execution_count": null,
   "metadata": {},
   "outputs": [],
   "source": [
    "team_stats.select([\"orpsp\", \"hadPassReception\"]).corr()"
   ]
  },
  {
   "cell_type": "code",
   "execution_count": null,
   "metadata": {},
   "outputs": [],
   "source": [
    "fig, ax = plt.subplots(figsize=(12, 8))\n",
    "sns.regplot(x=team_stats[\"orpsp\"].to_numpy(), y=team_stats[\"hadPassReception\"].to_numpy())\n",
    "for row in team_stats.rows(named=True):\n",
    "    ax.text(row[\"orpsp\"], row[\"hadPassReception\"], row[\"teamAbbr\"], fontsize=9, ha='right', va='bottom')"
   ]
  },
  {
   "cell_type": "code",
   "execution_count": null,
   "metadata": {},
   "outputs": [],
   "source": [
    "qb_stats.select([\"orpsp\", \"hadPassReception\"]).corr()"
   ]
  },
  {
   "cell_type": "code",
   "execution_count": null,
   "metadata": {},
   "outputs": [],
   "source": [
    "qb_stats.filter(pl.col(\"displayName\").is_in([\"Geno Smith\", \"Matt Ryan\"]))"
   ]
  },
  {
   "cell_type": "code",
   "execution_count": null,
   "metadata": {},
   "outputs": [],
   "source": [
    "fig, ax = plt.subplots(figsize=(16, 8))\n",
    "sns.regplot(x=qb_stats[\"orpsp\"].to_numpy(), y=qb_stats[\"hadPassReception\"].to_numpy(), scatter=False)\n",
    "scatter = ax.scatter(x=qb_stats[\"orpsp\"].to_numpy(), y=qb_stats[\"hadPassReception\"].to_numpy(), c=qb_stats[\"wasTargettedReceiver\"].to_numpy(), cmap=\"viridis\")\n",
    "cbar = fig.colorbar(scatter, ax=ax)\n",
    "cbar.set_label(\"Throws\")\n",
    "for row in qb_stats.rows(named=True):\n",
    "    if row[\"displayName\"] in  [\"Geno Smith\", \"Matt Ryan\"]:\n",
    "        ax.scatter(x=row[\"orpsp\"], y=row[\"hadPassReception\"], c=\"red\", s=5)\n",
    "        ax.text(row[\"orpsp\"], row[\"hadPassReception\"], row[\"displayName\"], fontsize=10, ha='right', va='bottom', color='red', bbox=dict(facecolor='red', alpha=0.1))\n",
    "    else:\n",
    "        ax.text(row[\"orpsp\"], row[\"hadPassReception\"], row[\"displayName\"], fontsize=7, ha='right', va='bottom')\n",
    "ax.set_xlabel(\"Targeted Receiver Average ORPSP\")\n",
    "ax.set_ylabel(\"Completion Rate\")\n",
    "plt.savefig(\"../reports/figures/quarterback_performances\", bbox_inches=\"tight\")"
   ]
  },
  {
   "cell_type": "code",
   "execution_count": null,
   "metadata": {},
   "outputs": [],
   "source": [
    "player_stats.select([\"orpsp\", \"hadPassReception\"]).corr()"
   ]
  },
  {
   "cell_type": "code",
   "execution_count": null,
   "metadata": {},
   "outputs": [],
   "source": [
    "player_stats.filter(pl.col(\"displayName\").is_in([\"Amari Cooper\", \"Austin Ekeler\", \"JuJu Smith-Schuster\"]))"
   ]
  },
  {
   "cell_type": "code",
   "execution_count": null,
   "metadata": {},
   "outputs": [],
   "source": [
    "fig, ax = plt.subplots(figsize=(16, 8))\n",
    "sns.regplot(x=player_stats[\"orpsp\"].to_numpy(), y=player_stats[\"hadPassReception\"].to_numpy(), scatter=False)\n",
    "scatter = ax.scatter(x=player_stats[\"orpsp\"].to_numpy(), y=player_stats[\"hadPassReception\"].to_numpy(), c=player_stats[\"wasTargettedReceiver\"].to_numpy(), cmap=\"viridis\")\n",
    "cbar = fig.colorbar(scatter, ax=ax)\n",
    "cbar.set_label(\"Targeted Count\")\n",
    "for player_name in [\"Amari Cooper\", \"Austin Ekeler\", \"JuJu Smith-Schuster\"]:\n",
    "    row = player_stats.filter(pl.col(\"displayName\")==player_name).row(0, named=True)\n",
    "    ax.scatter(x=row[\"orpsp\"], y=row[\"hadPassReception\"], c=\"red\", s=5)\n",
    "    if player_name==\"JuJu Smith-Schuster\":\n",
    "        ax.text(row[\"orpsp\"], row[\"hadPassReception\"], row[\"displayName\"], fontsize=10, ha=\"left\", va=\"bottom\", color=\"red\", bbox=dict(facecolor=\"red\", alpha=0.1))\n",
    "    else:\n",
    "        ax.text(row[\"orpsp\"], row[\"hadPassReception\"], row[\"displayName\"], fontsize=10, ha=\"right\", va=\"bottom\", color=\"red\", bbox=dict(facecolor=\"red\", alpha=0.1))\n",
    "ax.set_xlabel(\"Targeted Average ORPSP\")\n",
    "ax.set_ylabel(\"Catch Rate\")\n",
    "plt.savefig(\"../reports/figures/receiver_performances\", bbox_inches=\"tight\")"
   ]
  },
  {
   "cell_type": "code",
   "execution_count": null,
   "metadata": {},
   "outputs": [],
   "source": []
  }
 ],
 "metadata": {
  "kernelspec": {
   "display_name": "bowl_2025",
   "language": "python",
   "name": "python3"
  },
  "language_info": {
   "codemirror_mode": {
    "name": "ipython",
    "version": 3
   },
   "file_extension": ".py",
   "mimetype": "text/x-python",
   "name": "python",
   "nbconvert_exporter": "python",
   "pygments_lexer": "ipython3",
   "version": "3.10.15"
  }
 },
 "nbformat": 4,
 "nbformat_minor": 2
}
